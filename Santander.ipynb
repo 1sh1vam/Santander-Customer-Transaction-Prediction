{
 "cells": [
  {
   "cell_type": "code",
   "execution_count": 20,
   "metadata": {},
   "outputs": [],
   "source": [
    "import os\n",
    "import pandas as pd\n",
    "import numpy as np\n",
    "import matplotlib.pyplot as plt\n",
    "import seaborn as sns\n",
    "from sklearn.ensemble import ExtraTreesClassifier\n",
    "from sklearn.model_selection import train_test_split\n",
    "from sklearn.metrics import roc_curve,auc,roc_auc_score,classification_report\n",
    "from sklearn.linear_model import LogisticRegression\n",
    "from imblearn.over_sampling import SMOTE\n",
    "from sklearn import tree\n",
    "import lightgbm as lgb"
   ]
  },
  {
   "cell_type": "code",
   "execution_count": 22,
   "metadata": {},
   "outputs": [],
   "source": [
    "os.chdir(\"/home/zozo/Documents/edwisor/Project/Santander\")"
   ]
  },
  {
   "cell_type": "code",
   "execution_count": 23,
   "metadata": {},
   "outputs": [
    {
     "data": {
      "text/plain": [
       "'/home/zozo/Documents/edwisor/Project/Santander'"
      ]
     },
     "execution_count": 23,
     "metadata": {},
     "output_type": "execute_result"
    }
   ],
   "source": [
    "os.getcwd()"
   ]
  },
  {
   "cell_type": "code",
   "execution_count": 24,
   "metadata": {},
   "outputs": [],
   "source": [
    "train=pd.read_csv(\"train.csv\")"
   ]
  },
  {
   "cell_type": "code",
   "execution_count": 25,
   "metadata": {
    "scrolled": true
   },
   "outputs": [
    {
     "data": {
      "text/plain": [
       "(200000, 202)"
      ]
     },
     "execution_count": 25,
     "metadata": {},
     "output_type": "execute_result"
    }
   ],
   "source": [
    "train.shape"
   ]
  },
  {
   "cell_type": "code",
   "execution_count": 6,
   "metadata": {},
   "outputs": [
    {
     "data": {
      "text/html": [
       "<div>\n",
       "<style scoped>\n",
       "    .dataframe tbody tr th:only-of-type {\n",
       "        vertical-align: middle;\n",
       "    }\n",
       "\n",
       "    .dataframe tbody tr th {\n",
       "        vertical-align: top;\n",
       "    }\n",
       "\n",
       "    .dataframe thead th {\n",
       "        text-align: right;\n",
       "    }\n",
       "</style>\n",
       "<table border=\"1\" class=\"dataframe\">\n",
       "  <thead>\n",
       "    <tr style=\"text-align: right;\">\n",
       "      <th></th>\n",
       "      <th>ID_code</th>\n",
       "      <th>target</th>\n",
       "      <th>var_0</th>\n",
       "      <th>var_1</th>\n",
       "      <th>var_2</th>\n",
       "      <th>var_3</th>\n",
       "      <th>var_4</th>\n",
       "      <th>var_5</th>\n",
       "      <th>var_6</th>\n",
       "      <th>var_7</th>\n",
       "      <th>...</th>\n",
       "      <th>var_190</th>\n",
       "      <th>var_191</th>\n",
       "      <th>var_192</th>\n",
       "      <th>var_193</th>\n",
       "      <th>var_194</th>\n",
       "      <th>var_195</th>\n",
       "      <th>var_196</th>\n",
       "      <th>var_197</th>\n",
       "      <th>var_198</th>\n",
       "      <th>var_199</th>\n",
       "    </tr>\n",
       "  </thead>\n",
       "  <tbody>\n",
       "    <tr>\n",
       "      <th>0</th>\n",
       "      <td>train_0</td>\n",
       "      <td>0</td>\n",
       "      <td>8.9255</td>\n",
       "      <td>-6.7863</td>\n",
       "      <td>11.9081</td>\n",
       "      <td>5.0930</td>\n",
       "      <td>11.4607</td>\n",
       "      <td>-9.2834</td>\n",
       "      <td>5.1187</td>\n",
       "      <td>18.6266</td>\n",
       "      <td>...</td>\n",
       "      <td>4.4354</td>\n",
       "      <td>3.9642</td>\n",
       "      <td>3.1364</td>\n",
       "      <td>1.6910</td>\n",
       "      <td>18.5227</td>\n",
       "      <td>-2.3978</td>\n",
       "      <td>7.8784</td>\n",
       "      <td>8.5635</td>\n",
       "      <td>12.7803</td>\n",
       "      <td>-1.0914</td>\n",
       "    </tr>\n",
       "    <tr>\n",
       "      <th>1</th>\n",
       "      <td>train_1</td>\n",
       "      <td>0</td>\n",
       "      <td>11.5006</td>\n",
       "      <td>-4.1473</td>\n",
       "      <td>13.8588</td>\n",
       "      <td>5.3890</td>\n",
       "      <td>12.3622</td>\n",
       "      <td>7.0433</td>\n",
       "      <td>5.6208</td>\n",
       "      <td>16.5338</td>\n",
       "      <td>...</td>\n",
       "      <td>7.6421</td>\n",
       "      <td>7.7214</td>\n",
       "      <td>2.5837</td>\n",
       "      <td>10.9516</td>\n",
       "      <td>15.4305</td>\n",
       "      <td>2.0339</td>\n",
       "      <td>8.1267</td>\n",
       "      <td>8.7889</td>\n",
       "      <td>18.3560</td>\n",
       "      <td>1.9518</td>\n",
       "    </tr>\n",
       "    <tr>\n",
       "      <th>2</th>\n",
       "      <td>train_2</td>\n",
       "      <td>0</td>\n",
       "      <td>8.6093</td>\n",
       "      <td>-2.7457</td>\n",
       "      <td>12.0805</td>\n",
       "      <td>7.8928</td>\n",
       "      <td>10.5825</td>\n",
       "      <td>-9.0837</td>\n",
       "      <td>6.9427</td>\n",
       "      <td>14.6155</td>\n",
       "      <td>...</td>\n",
       "      <td>2.9057</td>\n",
       "      <td>9.7905</td>\n",
       "      <td>1.6704</td>\n",
       "      <td>1.6858</td>\n",
       "      <td>21.6042</td>\n",
       "      <td>3.1417</td>\n",
       "      <td>-6.5213</td>\n",
       "      <td>8.2675</td>\n",
       "      <td>14.7222</td>\n",
       "      <td>0.3965</td>\n",
       "    </tr>\n",
       "    <tr>\n",
       "      <th>3</th>\n",
       "      <td>train_3</td>\n",
       "      <td>0</td>\n",
       "      <td>11.0604</td>\n",
       "      <td>-2.1518</td>\n",
       "      <td>8.9522</td>\n",
       "      <td>7.1957</td>\n",
       "      <td>12.5846</td>\n",
       "      <td>-1.8361</td>\n",
       "      <td>5.8428</td>\n",
       "      <td>14.9250</td>\n",
       "      <td>...</td>\n",
       "      <td>4.4666</td>\n",
       "      <td>4.7433</td>\n",
       "      <td>0.7178</td>\n",
       "      <td>1.4214</td>\n",
       "      <td>23.0347</td>\n",
       "      <td>-1.2706</td>\n",
       "      <td>-2.9275</td>\n",
       "      <td>10.2922</td>\n",
       "      <td>17.9697</td>\n",
       "      <td>-8.9996</td>\n",
       "    </tr>\n",
       "    <tr>\n",
       "      <th>4</th>\n",
       "      <td>train_4</td>\n",
       "      <td>0</td>\n",
       "      <td>9.8369</td>\n",
       "      <td>-1.4834</td>\n",
       "      <td>12.8746</td>\n",
       "      <td>6.6375</td>\n",
       "      <td>12.2772</td>\n",
       "      <td>2.4486</td>\n",
       "      <td>5.9405</td>\n",
       "      <td>19.2514</td>\n",
       "      <td>...</td>\n",
       "      <td>-1.4905</td>\n",
       "      <td>9.5214</td>\n",
       "      <td>-0.1508</td>\n",
       "      <td>9.1942</td>\n",
       "      <td>13.2876</td>\n",
       "      <td>-1.5121</td>\n",
       "      <td>3.9267</td>\n",
       "      <td>9.5031</td>\n",
       "      <td>17.9974</td>\n",
       "      <td>-8.8104</td>\n",
       "    </tr>\n",
       "  </tbody>\n",
       "</table>\n",
       "<p>5 rows × 202 columns</p>\n",
       "</div>"
      ],
      "text/plain": [
       "   ID_code  target    var_0   var_1    var_2   var_3    var_4   var_5   var_6  \\\n",
       "0  train_0       0   8.9255 -6.7863  11.9081  5.0930  11.4607 -9.2834  5.1187   \n",
       "1  train_1       0  11.5006 -4.1473  13.8588  5.3890  12.3622  7.0433  5.6208   \n",
       "2  train_2       0   8.6093 -2.7457  12.0805  7.8928  10.5825 -9.0837  6.9427   \n",
       "3  train_3       0  11.0604 -2.1518   8.9522  7.1957  12.5846 -1.8361  5.8428   \n",
       "4  train_4       0   9.8369 -1.4834  12.8746  6.6375  12.2772  2.4486  5.9405   \n",
       "\n",
       "     var_7  ...  var_190  var_191  var_192  var_193  var_194  var_195  \\\n",
       "0  18.6266  ...   4.4354   3.9642   3.1364   1.6910  18.5227  -2.3978   \n",
       "1  16.5338  ...   7.6421   7.7214   2.5837  10.9516  15.4305   2.0339   \n",
       "2  14.6155  ...   2.9057   9.7905   1.6704   1.6858  21.6042   3.1417   \n",
       "3  14.9250  ...   4.4666   4.7433   0.7178   1.4214  23.0347  -1.2706   \n",
       "4  19.2514  ...  -1.4905   9.5214  -0.1508   9.1942  13.2876  -1.5121   \n",
       "\n",
       "   var_196  var_197  var_198  var_199  \n",
       "0   7.8784   8.5635  12.7803  -1.0914  \n",
       "1   8.1267   8.7889  18.3560   1.9518  \n",
       "2  -6.5213   8.2675  14.7222   0.3965  \n",
       "3  -2.9275  10.2922  17.9697  -8.9996  \n",
       "4   3.9267   9.5031  17.9974  -8.8104  \n",
       "\n",
       "[5 rows x 202 columns]"
      ]
     },
     "execution_count": 6,
     "metadata": {},
     "output_type": "execute_result"
    }
   ],
   "source": [
    "train.head()"
   ]
  },
  {
   "cell_type": "code",
   "execution_count": 31,
   "metadata": {},
   "outputs": [
    {
     "data": {
      "text/html": [
       "<div>\n",
       "<style scoped>\n",
       "    .dataframe tbody tr th:only-of-type {\n",
       "        vertical-align: middle;\n",
       "    }\n",
       "\n",
       "    .dataframe tbody tr th {\n",
       "        vertical-align: top;\n",
       "    }\n",
       "\n",
       "    .dataframe thead th {\n",
       "        text-align: right;\n",
       "    }\n",
       "</style>\n",
       "<table border=\"1\" class=\"dataframe\">\n",
       "  <thead>\n",
       "    <tr style=\"text-align: right;\">\n",
       "      <th></th>\n",
       "      <th>target</th>\n",
       "      <th>var_0</th>\n",
       "      <th>var_1</th>\n",
       "      <th>var_2</th>\n",
       "      <th>var_3</th>\n",
       "      <th>var_4</th>\n",
       "      <th>var_5</th>\n",
       "      <th>var_6</th>\n",
       "      <th>var_7</th>\n",
       "      <th>var_8</th>\n",
       "      <th>...</th>\n",
       "      <th>var_190</th>\n",
       "      <th>var_191</th>\n",
       "      <th>var_192</th>\n",
       "      <th>var_193</th>\n",
       "      <th>var_194</th>\n",
       "      <th>var_195</th>\n",
       "      <th>var_196</th>\n",
       "      <th>var_197</th>\n",
       "      <th>var_198</th>\n",
       "      <th>var_199</th>\n",
       "    </tr>\n",
       "  </thead>\n",
       "  <tbody>\n",
       "    <tr>\n",
       "      <th>count</th>\n",
       "      <td>200000.000000</td>\n",
       "      <td>200000.000000</td>\n",
       "      <td>200000.000000</td>\n",
       "      <td>200000.000000</td>\n",
       "      <td>200000.000000</td>\n",
       "      <td>200000.000000</td>\n",
       "      <td>200000.000000</td>\n",
       "      <td>200000.000000</td>\n",
       "      <td>200000.000000</td>\n",
       "      <td>200000.000000</td>\n",
       "      <td>...</td>\n",
       "      <td>200000.000000</td>\n",
       "      <td>200000.000000</td>\n",
       "      <td>200000.000000</td>\n",
       "      <td>200000.000000</td>\n",
       "      <td>200000.000000</td>\n",
       "      <td>200000.000000</td>\n",
       "      <td>200000.000000</td>\n",
       "      <td>200000.000000</td>\n",
       "      <td>200000.000000</td>\n",
       "      <td>200000.000000</td>\n",
       "    </tr>\n",
       "    <tr>\n",
       "      <th>mean</th>\n",
       "      <td>0.100490</td>\n",
       "      <td>10.679914</td>\n",
       "      <td>-1.627622</td>\n",
       "      <td>10.715192</td>\n",
       "      <td>6.796529</td>\n",
       "      <td>11.078333</td>\n",
       "      <td>-5.065317</td>\n",
       "      <td>5.408949</td>\n",
       "      <td>16.545850</td>\n",
       "      <td>0.284162</td>\n",
       "      <td>...</td>\n",
       "      <td>3.234440</td>\n",
       "      <td>7.438408</td>\n",
       "      <td>1.927839</td>\n",
       "      <td>3.331774</td>\n",
       "      <td>17.993784</td>\n",
       "      <td>-0.142088</td>\n",
       "      <td>2.303335</td>\n",
       "      <td>8.908158</td>\n",
       "      <td>15.870720</td>\n",
       "      <td>-3.326537</td>\n",
       "    </tr>\n",
       "    <tr>\n",
       "      <th>std</th>\n",
       "      <td>0.300653</td>\n",
       "      <td>3.040051</td>\n",
       "      <td>4.050044</td>\n",
       "      <td>2.640894</td>\n",
       "      <td>2.043319</td>\n",
       "      <td>1.623150</td>\n",
       "      <td>7.863267</td>\n",
       "      <td>0.866607</td>\n",
       "      <td>3.418076</td>\n",
       "      <td>3.332634</td>\n",
       "      <td>...</td>\n",
       "      <td>4.559922</td>\n",
       "      <td>3.023272</td>\n",
       "      <td>1.478423</td>\n",
       "      <td>3.992030</td>\n",
       "      <td>3.135162</td>\n",
       "      <td>1.429372</td>\n",
       "      <td>5.454369</td>\n",
       "      <td>0.921625</td>\n",
       "      <td>3.010945</td>\n",
       "      <td>10.438015</td>\n",
       "    </tr>\n",
       "    <tr>\n",
       "      <th>min</th>\n",
       "      <td>0.000000</td>\n",
       "      <td>0.408400</td>\n",
       "      <td>-15.043400</td>\n",
       "      <td>2.117100</td>\n",
       "      <td>-0.040200</td>\n",
       "      <td>5.074800</td>\n",
       "      <td>-32.562600</td>\n",
       "      <td>2.347300</td>\n",
       "      <td>5.349700</td>\n",
       "      <td>-10.505500</td>\n",
       "      <td>...</td>\n",
       "      <td>-14.093300</td>\n",
       "      <td>-2.691700</td>\n",
       "      <td>-3.814500</td>\n",
       "      <td>-11.783400</td>\n",
       "      <td>8.694400</td>\n",
       "      <td>-5.261000</td>\n",
       "      <td>-14.209600</td>\n",
       "      <td>5.960600</td>\n",
       "      <td>6.299300</td>\n",
       "      <td>-38.852800</td>\n",
       "    </tr>\n",
       "    <tr>\n",
       "      <th>25%</th>\n",
       "      <td>0.000000</td>\n",
       "      <td>8.453850</td>\n",
       "      <td>-4.740025</td>\n",
       "      <td>8.722475</td>\n",
       "      <td>5.254075</td>\n",
       "      <td>9.883175</td>\n",
       "      <td>-11.200350</td>\n",
       "      <td>4.767700</td>\n",
       "      <td>13.943800</td>\n",
       "      <td>-2.317800</td>\n",
       "      <td>...</td>\n",
       "      <td>-0.058825</td>\n",
       "      <td>5.157400</td>\n",
       "      <td>0.889775</td>\n",
       "      <td>0.584600</td>\n",
       "      <td>15.629800</td>\n",
       "      <td>-1.170700</td>\n",
       "      <td>-1.946925</td>\n",
       "      <td>8.252800</td>\n",
       "      <td>13.829700</td>\n",
       "      <td>-11.208475</td>\n",
       "    </tr>\n",
       "    <tr>\n",
       "      <th>50%</th>\n",
       "      <td>0.000000</td>\n",
       "      <td>10.524750</td>\n",
       "      <td>-1.608050</td>\n",
       "      <td>10.580000</td>\n",
       "      <td>6.825000</td>\n",
       "      <td>11.108250</td>\n",
       "      <td>-4.833150</td>\n",
       "      <td>5.385100</td>\n",
       "      <td>16.456800</td>\n",
       "      <td>0.393700</td>\n",
       "      <td>...</td>\n",
       "      <td>3.203600</td>\n",
       "      <td>7.347750</td>\n",
       "      <td>1.901300</td>\n",
       "      <td>3.396350</td>\n",
       "      <td>17.957950</td>\n",
       "      <td>-0.172700</td>\n",
       "      <td>2.408900</td>\n",
       "      <td>8.888200</td>\n",
       "      <td>15.934050</td>\n",
       "      <td>-2.819550</td>\n",
       "    </tr>\n",
       "    <tr>\n",
       "      <th>75%</th>\n",
       "      <td>0.000000</td>\n",
       "      <td>12.758200</td>\n",
       "      <td>1.358625</td>\n",
       "      <td>12.516700</td>\n",
       "      <td>8.324100</td>\n",
       "      <td>12.261125</td>\n",
       "      <td>0.924800</td>\n",
       "      <td>6.003000</td>\n",
       "      <td>19.102900</td>\n",
       "      <td>2.937900</td>\n",
       "      <td>...</td>\n",
       "      <td>6.406200</td>\n",
       "      <td>9.512525</td>\n",
       "      <td>2.949500</td>\n",
       "      <td>6.205800</td>\n",
       "      <td>20.396525</td>\n",
       "      <td>0.829600</td>\n",
       "      <td>6.556725</td>\n",
       "      <td>9.593300</td>\n",
       "      <td>18.064725</td>\n",
       "      <td>4.836800</td>\n",
       "    </tr>\n",
       "    <tr>\n",
       "      <th>max</th>\n",
       "      <td>1.000000</td>\n",
       "      <td>20.315000</td>\n",
       "      <td>10.376800</td>\n",
       "      <td>19.353000</td>\n",
       "      <td>13.188300</td>\n",
       "      <td>16.671400</td>\n",
       "      <td>17.251600</td>\n",
       "      <td>8.447700</td>\n",
       "      <td>27.691800</td>\n",
       "      <td>10.151300</td>\n",
       "      <td>...</td>\n",
       "      <td>18.440900</td>\n",
       "      <td>16.716500</td>\n",
       "      <td>8.402400</td>\n",
       "      <td>18.281800</td>\n",
       "      <td>27.928800</td>\n",
       "      <td>4.272900</td>\n",
       "      <td>18.321500</td>\n",
       "      <td>12.000400</td>\n",
       "      <td>26.079100</td>\n",
       "      <td>28.500700</td>\n",
       "    </tr>\n",
       "  </tbody>\n",
       "</table>\n",
       "<p>8 rows × 201 columns</p>\n",
       "</div>"
      ],
      "text/plain": [
       "              target          var_0          var_1          var_2  \\\n",
       "count  200000.000000  200000.000000  200000.000000  200000.000000   \n",
       "mean        0.100490      10.679914      -1.627622      10.715192   \n",
       "std         0.300653       3.040051       4.050044       2.640894   \n",
       "min         0.000000       0.408400     -15.043400       2.117100   \n",
       "25%         0.000000       8.453850      -4.740025       8.722475   \n",
       "50%         0.000000      10.524750      -1.608050      10.580000   \n",
       "75%         0.000000      12.758200       1.358625      12.516700   \n",
       "max         1.000000      20.315000      10.376800      19.353000   \n",
       "\n",
       "               var_3          var_4          var_5          var_6  \\\n",
       "count  200000.000000  200000.000000  200000.000000  200000.000000   \n",
       "mean        6.796529      11.078333      -5.065317       5.408949   \n",
       "std         2.043319       1.623150       7.863267       0.866607   \n",
       "min        -0.040200       5.074800     -32.562600       2.347300   \n",
       "25%         5.254075       9.883175     -11.200350       4.767700   \n",
       "50%         6.825000      11.108250      -4.833150       5.385100   \n",
       "75%         8.324100      12.261125       0.924800       6.003000   \n",
       "max        13.188300      16.671400      17.251600       8.447700   \n",
       "\n",
       "               var_7          var_8  ...        var_190        var_191  \\\n",
       "count  200000.000000  200000.000000  ...  200000.000000  200000.000000   \n",
       "mean       16.545850       0.284162  ...       3.234440       7.438408   \n",
       "std         3.418076       3.332634  ...       4.559922       3.023272   \n",
       "min         5.349700     -10.505500  ...     -14.093300      -2.691700   \n",
       "25%        13.943800      -2.317800  ...      -0.058825       5.157400   \n",
       "50%        16.456800       0.393700  ...       3.203600       7.347750   \n",
       "75%        19.102900       2.937900  ...       6.406200       9.512525   \n",
       "max        27.691800      10.151300  ...      18.440900      16.716500   \n",
       "\n",
       "             var_192        var_193        var_194        var_195  \\\n",
       "count  200000.000000  200000.000000  200000.000000  200000.000000   \n",
       "mean        1.927839       3.331774      17.993784      -0.142088   \n",
       "std         1.478423       3.992030       3.135162       1.429372   \n",
       "min        -3.814500     -11.783400       8.694400      -5.261000   \n",
       "25%         0.889775       0.584600      15.629800      -1.170700   \n",
       "50%         1.901300       3.396350      17.957950      -0.172700   \n",
       "75%         2.949500       6.205800      20.396525       0.829600   \n",
       "max         8.402400      18.281800      27.928800       4.272900   \n",
       "\n",
       "             var_196        var_197        var_198        var_199  \n",
       "count  200000.000000  200000.000000  200000.000000  200000.000000  \n",
       "mean        2.303335       8.908158      15.870720      -3.326537  \n",
       "std         5.454369       0.921625       3.010945      10.438015  \n",
       "min       -14.209600       5.960600       6.299300     -38.852800  \n",
       "25%        -1.946925       8.252800      13.829700     -11.208475  \n",
       "50%         2.408900       8.888200      15.934050      -2.819550  \n",
       "75%         6.556725       9.593300      18.064725       4.836800  \n",
       "max        18.321500      12.000400      26.079100      28.500700  \n",
       "\n",
       "[8 rows x 201 columns]"
      ]
     },
     "execution_count": 31,
     "metadata": {},
     "output_type": "execute_result"
    }
   ],
   "source": [
    "train.describe()"
   ]
  },
  {
   "cell_type": "markdown",
   "metadata": {},
   "source": [
    "look at the summary of variables from var_0 to var_199. If you will observe summary of these variables then you will finnd out that the mean value of these variables is not very small when compared to the max value of these variables that means outliers does not exist in dataset."
   ]
  },
  {
   "cell_type": "code",
   "execution_count": 8,
   "metadata": {},
   "outputs": [
    {
     "data": {
      "text/plain": [
       "ID_code     object\n",
       "target       int64\n",
       "var_0      float64\n",
       "var_1      float64\n",
       "var_2      float64\n",
       "            ...   \n",
       "var_195    float64\n",
       "var_196    float64\n",
       "var_197    float64\n",
       "var_198    float64\n",
       "var_199    float64\n",
       "Length: 202, dtype: object"
      ]
     },
     "execution_count": 8,
     "metadata": {},
     "output_type": "execute_result"
    }
   ],
   "source": [
    "train.dtypes"
   ]
  },
  {
   "cell_type": "markdown",
   "metadata": {},
   "source": [
    "#### Missing value analysis"
   ]
  },
  {
   "cell_type": "code",
   "execution_count": 11,
   "metadata": {},
   "outputs": [
    {
     "data": {
      "text/plain": [
       "0"
      ]
     },
     "execution_count": 11,
     "metadata": {},
     "output_type": "execute_result"
    }
   ],
   "source": [
    "train.isnull().sum().sum()"
   ]
  },
  {
   "cell_type": "markdown",
   "metadata": {},
   "source": [
    "as we can see that there are no missing values in the data"
   ]
  },
  {
   "cell_type": "markdown",
   "metadata": {},
   "source": [
    "##### Important Features"
   ]
  },
  {
   "cell_type": "markdown",
   "metadata": {},
   "source": []
  },
  {
   "cell_type": "code",
   "execution_count": 46,
   "metadata": {},
   "outputs": [
    {
     "name": "stderr",
     "output_type": "stream",
     "text": [
      "/home/zozo/.local/lib/python3.7/site-packages/sklearn/ensemble/forest.py:245: FutureWarning: The default value of n_estimators will change from 10 in version 0.20 to 100 in 0.22.\n",
      "  \"10 in version 0.20 to 100 in 0.22.\", FutureWarning)\n"
     ]
    },
    {
     "name": "stdout",
     "output_type": "stream",
     "text": [
      "[0.00641383 0.00561374 0.00616793 0.00466284 0.00473847 0.0051515\n",
      " 0.00651992 0.00429657 0.00470441 0.00518935 0.00437371 0.00478\n",
      " 0.0069188  0.00553926 0.00422995 0.00466806 0.00449186 0.00447242\n",
      " 0.00540007 0.00449142 0.00425106 0.00579067 0.00617155 0.00476257\n",
      " 0.00465495 0.00465884 0.00713639 0.00477446 0.00471055 0.00447958\n",
      " 0.00439232 0.0044099  0.00494567 0.00537645 0.00556306 0.00486624\n",
      " 0.00496885 0.00436784 0.00457349 0.00438331 0.00571904 0.00481349\n",
      " 0.00439452 0.00491551 0.00598511 0.00461414 0.0044799  0.00432435\n",
      " 0.00477775 0.00483256 0.00476865 0.00487104 0.00507819 0.00715959\n",
      " 0.00430985 0.00457941 0.00517015 0.00443205 0.00472777 0.00443701\n",
      " 0.00448251 0.00430383 0.00459509 0.00454632 0.00436951 0.00453222\n",
      " 0.0047215  0.00526444 0.00470641 0.00476776 0.00472194 0.00485549\n",
      " 0.0045089  0.00449028 0.00458676 0.00515485 0.00622069 0.00448594\n",
      " 0.00548866 0.00460816 0.00628813 0.00902215 0.00451676 0.00482563\n",
      " 0.00462342 0.00477045 0.00539949 0.00503637 0.00460672 0.00523609\n",
      " 0.00461836 0.0051021  0.00560523 0.005039   0.00554123 0.00537235\n",
      " 0.00449472 0.00447421 0.00420884 0.00650261 0.00452468 0.00448404\n",
      " 0.00471553 0.00437738 0.00458559 0.00464323 0.00506516 0.00516879\n",
      " 0.00560756 0.00592189 0.00692917 0.00487675 0.00439037 0.00462118\n",
      " 0.00508584 0.00547582 0.00446081 0.00447881 0.00497977 0.00494036\n",
      " 0.00420643 0.00519581 0.00532853 0.00562519 0.00450759 0.00506682\n",
      " 0.00450245 0.00504465 0.00476286 0.00466889 0.00520689 0.00455614\n",
      " 0.00493542 0.00594911 0.00482712 0.00501478 0.00429768 0.00454513\n",
      " 0.00482905 0.00704323 0.00431518 0.00494201 0.00452809 0.00455544\n",
      " 0.00451113 0.00460739 0.00666857 0.00533322 0.00568254 0.00498347\n",
      " 0.00455682 0.0047822  0.00488065 0.00438133 0.00553957 0.00508069\n",
      " 0.00430418 0.00519211 0.00440008 0.0044489  0.00445313 0.00461224\n",
      " 0.00503705 0.00504643 0.00522256 0.00591051 0.00660847 0.0047788\n",
      " 0.00458997 0.00528761 0.00569041 0.00445673 0.00527458 0.00513772\n",
      " 0.00636083 0.00471692 0.00440845 0.00514934 0.0045243  0.00596188\n",
      " 0.00495296 0.00429626 0.00459553 0.00432849 0.00563221 0.0044747\n",
      " 0.00469522 0.00477628 0.00514057 0.00455486 0.00583206 0.00601724\n",
      " 0.00480968 0.00442004 0.00484568 0.00476022 0.00458588 0.00515015\n",
      " 0.00627762 0.00433934]\n"
     ]
    },
    {
     "data": {
      "image/png": "[encoded data removed]",
      "text/plain": [
       "<Figure size 2880x3240 with 1 Axes>"
      ]
     },
     "metadata": {
      "needs_background": "light"
     },
     "output_type": "display_data"
    }
   ],
   "source": [
    "X = train.iloc[:,2:202]  #independent columns\n",
    "y = train.iloc[:,1]    #target column i.e price range\n",
    "model = ExtraTreesClassifier(random_state=42)\n",
    "model.fit(X,y)\n",
    "print(model.feature_importances_) \n",
    "#plot graph of feature importances for better visualization\n",
    "plt.subplots(figsize=(40,45))\n",
    "feat_importances = pd.Series(model.feature_importances_, index=X.columns)\n",
    "feat_importances.nlargest(200).plot(kind='barh')\n",
    "plt.show()\n"
   ]
  },
  {
   "cell_type": "markdown",
   "metadata": {},
   "source": [
    "we can see that some of the most important variables are var_81,var_53,var_26 and var_139\n",
    "and some of the least important variables in 200 variables are var_20,var_14,var_98 and var_120\n"
   ]
  },
  {
   "cell_type": "markdown",
   "metadata": {},
   "source": [
    "##### Let's plot histogram of some of the variables"
   ]
  },
  {
   "cell_type": "code",
   "execution_count": 281,
   "metadata": {},
   "outputs": [
    {
     "data": {
      "text/plain": [
       "<matplotlib.axes._subplots.AxesSubplot at 0x7f94e17c5e80>"
      ]
     },
     "execution_count": 281,
     "metadata": {},
     "output_type": "execute_result"
    },
    {
     "data": {
      "image/png": "[encoded data removed]",
      "text/plain": [
       "<Figure size 432x288 with 1 Axes>"
      ]
     },
     "metadata": {
      "needs_background": "light"
     },
     "output_type": "display_data"
    }
   ],
   "source": [
    "train['var_81'].hist()"
   ]
  },
  {
   "cell_type": "code",
   "execution_count": 282,
   "metadata": {},
   "outputs": [
    {
     "data": {
      "text/plain": [
       "<matplotlib.axes._subplots.AxesSubplot at 0x7f94e17d62e8>"
      ]
     },
     "execution_count": 282,
     "metadata": {},
     "output_type": "execute_result"
    },
    {
     "data": {
      "image/png": "[encoded data removed]",
      "text/plain": [
       "<Figure size 432x288 with 1 Axes>"
      ]
     },
     "metadata": {
      "needs_background": "light"
     },
     "output_type": "display_data"
    }
   ],
   "source": [
    "train['var_53'].hist()"
   ]
  },
  {
   "cell_type": "code",
   "execution_count": 283,
   "metadata": {},
   "outputs": [
    {
     "data": {
      "text/plain": [
       "<matplotlib.axes._subplots.AxesSubplot at 0x7f94ec2580b8>"
      ]
     },
     "execution_count": 283,
     "metadata": {},
     "output_type": "execute_result"
    },
    {
     "data": {
      "image/png": "[encoded data removed]",
      "text/plain": [
       "<Figure size 432x288 with 1 Axes>"
      ]
     },
     "metadata": {
      "needs_background": "light"
     },
     "output_type": "display_data"
    }
   ],
   "source": [
    "train['var_20'].hist()"
   ]
  },
  {
   "cell_type": "code",
   "execution_count": 284,
   "metadata": {},
   "outputs": [
    {
     "data": {
      "text/plain": [
       "<matplotlib.axes._subplots.AxesSubplot at 0x7f94e2c01e80>"
      ]
     },
     "execution_count": 284,
     "metadata": {},
     "output_type": "execute_result"
    },
    {
     "data": {
      "image/png": "[encoded data removed]",
      "text/plain": [
       "<Figure size 432x288 with 1 Axes>"
      ]
     },
     "metadata": {
      "needs_background": "light"
     },
     "output_type": "display_data"
    }
   ],
   "source": [
    "train['var_14'].hist()"
   ]
  },
  {
   "cell_type": "markdown",
   "metadata": {},
   "source": [
    "if you will see all the histograms you can find out histogram of two of most important features are similar and histogram of least 2 important feature are similar"
   ]
  },
  {
   "cell_type": "markdown",
   "metadata": {},
   "source": [
    "#### Let's count and visualize the labels of target variable"
   ]
  },
  {
   "cell_type": "code",
   "execution_count": 15,
   "metadata": {},
   "outputs": [
    {
     "data": {
      "text/plain": [
       "0    179902\n",
       "1     20098\n",
       "Name: target, dtype: int64"
      ]
     },
     "execution_count": 15,
     "metadata": {},
     "output_type": "execute_result"
    }
   ],
   "source": [
    "train['target'].value_counts()"
   ]
  },
  {
   "cell_type": "code",
   "execution_count": 16,
   "metadata": {},
   "outputs": [
    {
     "data": {
      "text/plain": [
       "<matplotlib.axes._subplots.AxesSubplot at 0x7f2dd5eeb320>"
      ]
     },
     "execution_count": 16,
     "metadata": {},
     "output_type": "execute_result"
    },
    {
     "data": {
      "image/png": "[encoded data removed]",
      "text/plain": [
       "<Figure size 432x288 with 1 Axes>"
      ]
     },
     "metadata": {
      "needs_background": "light"
     },
     "output_type": "display_data"
    }
   ],
   "source": [
    "sns.countplot(train['target'],palette=\"Set2\")"
   ]
  },
  {
   "cell_type": "code",
   "execution_count": 17,
   "metadata": {},
   "outputs": [
    {
     "data": {
      "text/plain": [
       "count    200000.000000\n",
       "mean          0.100490\n",
       "std           0.300653\n",
       "min           0.000000\n",
       "25%           0.000000\n",
       "50%           0.000000\n",
       "75%           0.000000\n",
       "max           1.000000\n",
       "Name: target, dtype: float64"
      ]
     },
     "execution_count": 17,
     "metadata": {},
     "output_type": "execute_result"
    }
   ],
   "source": [
    "train['target'].describe()"
   ]
  },
  {
   "cell_type": "markdown",
   "metadata": {},
   "source": [
    "we can see that there are only 10.049% positivie labels present in target variable. There is target class imbalance problem"
   ]
  },
  {
   "cell_type": "markdown",
   "metadata": {},
   "source": [
    "#### Let's look at the correlation between variables"
   ]
  },
  {
   "cell_type": "code",
   "execution_count": 18,
   "metadata": {},
   "outputs": [],
   "source": [
    "df_corr=train.iloc[:,2:202]"
   ]
  },
  {
   "cell_type": "code",
   "execution_count": 19,
   "metadata": {},
   "outputs": [
    {
     "data": {
      "text/html": [
       "<div>\n",
       "<style scoped>\n",
       "    .dataframe tbody tr th:only-of-type {\n",
       "        vertical-align: middle;\n",
       "    }\n",
       "\n",
       "    .dataframe tbody tr th {\n",
       "        vertical-align: top;\n",
       "    }\n",
       "\n",
       "    .dataframe thead th {\n",
       "        text-align: right;\n",
       "    }\n",
       "</style>\n",
       "<table border=\"1\" class=\"dataframe\">\n",
       "  <thead>\n",
       "    <tr style=\"text-align: right;\">\n",
       "      <th></th>\n",
       "      <th>var_0</th>\n",
       "      <th>var_1</th>\n",
       "      <th>var_2</th>\n",
       "      <th>var_3</th>\n",
       "      <th>var_4</th>\n",
       "      <th>var_5</th>\n",
       "      <th>var_6</th>\n",
       "      <th>var_7</th>\n",
       "      <th>var_8</th>\n",
       "      <th>var_9</th>\n",
       "      <th>...</th>\n",
       "      <th>var_190</th>\n",
       "      <th>var_191</th>\n",
       "      <th>var_192</th>\n",
       "      <th>var_193</th>\n",
       "      <th>var_194</th>\n",
       "      <th>var_195</th>\n",
       "      <th>var_196</th>\n",
       "      <th>var_197</th>\n",
       "      <th>var_198</th>\n",
       "      <th>var_199</th>\n",
       "    </tr>\n",
       "  </thead>\n",
       "  <tbody>\n",
       "    <tr>\n",
       "      <th>var_0</th>\n",
       "      <td>1.000000</td>\n",
       "      <td>-0.000544</td>\n",
       "      <td>0.006573</td>\n",
       "      <td>0.003801</td>\n",
       "      <td>0.001326</td>\n",
       "      <td>0.003046</td>\n",
       "      <td>6.982549e-03</td>\n",
       "      <td>0.002429</td>\n",
       "      <td>0.004962</td>\n",
       "      <td>-0.002613</td>\n",
       "      <td>...</td>\n",
       "      <td>0.002752</td>\n",
       "      <td>0.000206</td>\n",
       "      <td>-0.005373</td>\n",
       "      <td>0.001616</td>\n",
       "      <td>-0.001514</td>\n",
       "      <td>0.002073</td>\n",
       "      <td>0.004386</td>\n",
       "      <td>-0.000753</td>\n",
       "      <td>-0.005776</td>\n",
       "      <td>0.003850</td>\n",
       "    </tr>\n",
       "    <tr>\n",
       "      <th>var_1</th>\n",
       "      <td>-0.000544</td>\n",
       "      <td>1.000000</td>\n",
       "      <td>0.003980</td>\n",
       "      <td>0.000010</td>\n",
       "      <td>0.000303</td>\n",
       "      <td>-0.000902</td>\n",
       "      <td>3.257729e-03</td>\n",
       "      <td>0.001511</td>\n",
       "      <td>0.004098</td>\n",
       "      <td>-0.000832</td>\n",
       "      <td>...</td>\n",
       "      <td>0.006627</td>\n",
       "      <td>0.003621</td>\n",
       "      <td>-0.002604</td>\n",
       "      <td>0.001153</td>\n",
       "      <td>-0.002557</td>\n",
       "      <td>-0.000785</td>\n",
       "      <td>-0.000377</td>\n",
       "      <td>-0.004157</td>\n",
       "      <td>-0.004861</td>\n",
       "      <td>0.002287</td>\n",
       "    </tr>\n",
       "    <tr>\n",
       "      <th>var_2</th>\n",
       "      <td>0.006573</td>\n",
       "      <td>0.003980</td>\n",
       "      <td>1.000000</td>\n",
       "      <td>0.001001</td>\n",
       "      <td>0.000723</td>\n",
       "      <td>0.001569</td>\n",
       "      <td>8.825211e-04</td>\n",
       "      <td>-0.000991</td>\n",
       "      <td>0.002648</td>\n",
       "      <td>-0.001932</td>\n",
       "      <td>...</td>\n",
       "      <td>0.000197</td>\n",
       "      <td>0.001285</td>\n",
       "      <td>-0.003400</td>\n",
       "      <td>0.000549</td>\n",
       "      <td>0.002104</td>\n",
       "      <td>-0.001070</td>\n",
       "      <td>0.003952</td>\n",
       "      <td>0.001078</td>\n",
       "      <td>-0.000877</td>\n",
       "      <td>0.003855</td>\n",
       "    </tr>\n",
       "    <tr>\n",
       "      <th>var_3</th>\n",
       "      <td>0.003801</td>\n",
       "      <td>0.000010</td>\n",
       "      <td>0.001001</td>\n",
       "      <td>1.000000</td>\n",
       "      <td>-0.000322</td>\n",
       "      <td>0.003253</td>\n",
       "      <td>-7.743892e-04</td>\n",
       "      <td>0.002500</td>\n",
       "      <td>0.003553</td>\n",
       "      <td>-0.000826</td>\n",
       "      <td>...</td>\n",
       "      <td>0.000151</td>\n",
       "      <td>0.002445</td>\n",
       "      <td>-0.001530</td>\n",
       "      <td>-0.001699</td>\n",
       "      <td>-0.001054</td>\n",
       "      <td>0.001206</td>\n",
       "      <td>-0.002800</td>\n",
       "      <td>0.001164</td>\n",
       "      <td>-0.001651</td>\n",
       "      <td>0.000506</td>\n",
       "    </tr>\n",
       "    <tr>\n",
       "      <th>var_4</th>\n",
       "      <td>0.001326</td>\n",
       "      <td>0.000303</td>\n",
       "      <td>0.000723</td>\n",
       "      <td>-0.000322</td>\n",
       "      <td>1.000000</td>\n",
       "      <td>-0.001368</td>\n",
       "      <td>4.882529e-05</td>\n",
       "      <td>0.004549</td>\n",
       "      <td>0.001194</td>\n",
       "      <td>-0.000918</td>\n",
       "      <td>...</td>\n",
       "      <td>0.001514</td>\n",
       "      <td>0.004357</td>\n",
       "      <td>0.003347</td>\n",
       "      <td>0.000813</td>\n",
       "      <td>-0.000068</td>\n",
       "      <td>0.003706</td>\n",
       "      <td>0.000513</td>\n",
       "      <td>-0.000046</td>\n",
       "      <td>-0.001821</td>\n",
       "      <td>-0.000786</td>\n",
       "    </tr>\n",
       "    <tr>\n",
       "      <th>var_5</th>\n",
       "      <td>0.003046</td>\n",
       "      <td>-0.000902</td>\n",
       "      <td>0.001569</td>\n",
       "      <td>0.003253</td>\n",
       "      <td>-0.001368</td>\n",
       "      <td>1.000000</td>\n",
       "      <td>2.587780e-03</td>\n",
       "      <td>-0.000995</td>\n",
       "      <td>0.000147</td>\n",
       "      <td>-0.005279</td>\n",
       "      <td>...</td>\n",
       "      <td>0.001466</td>\n",
       "      <td>-0.000022</td>\n",
       "      <td>0.001116</td>\n",
       "      <td>-0.002237</td>\n",
       "      <td>-0.002543</td>\n",
       "      <td>-0.001274</td>\n",
       "      <td>0.002880</td>\n",
       "      <td>-0.000535</td>\n",
       "      <td>-0.000953</td>\n",
       "      <td>0.002767</td>\n",
       "    </tr>\n",
       "    <tr>\n",
       "      <th>var_6</th>\n",
       "      <td>0.006983</td>\n",
       "      <td>0.003258</td>\n",
       "      <td>0.000883</td>\n",
       "      <td>-0.000774</td>\n",
       "      <td>0.000049</td>\n",
       "      <td>0.002588</td>\n",
       "      <td>1.000000e+00</td>\n",
       "      <td>-0.002548</td>\n",
       "      <td>-0.001188</td>\n",
       "      <td>-0.005697</td>\n",
       "      <td>...</td>\n",
       "      <td>0.000721</td>\n",
       "      <td>0.005604</td>\n",
       "      <td>-0.002563</td>\n",
       "      <td>0.002464</td>\n",
       "      <td>-0.001141</td>\n",
       "      <td>0.001244</td>\n",
       "      <td>0.005378</td>\n",
       "      <td>-0.003565</td>\n",
       "      <td>-0.003025</td>\n",
       "      <td>0.006096</td>\n",
       "    </tr>\n",
       "    <tr>\n",
       "      <th>var_7</th>\n",
       "      <td>0.002429</td>\n",
       "      <td>0.001511</td>\n",
       "      <td>-0.000991</td>\n",
       "      <td>0.002500</td>\n",
       "      <td>0.004549</td>\n",
       "      <td>-0.000995</td>\n",
       "      <td>-2.547746e-03</td>\n",
       "      <td>1.000000</td>\n",
       "      <td>0.000814</td>\n",
       "      <td>0.002885</td>\n",
       "      <td>...</td>\n",
       "      <td>-0.000337</td>\n",
       "      <td>-0.003957</td>\n",
       "      <td>0.001733</td>\n",
       "      <td>0.003219</td>\n",
       "      <td>-0.000270</td>\n",
       "      <td>0.001854</td>\n",
       "      <td>0.001045</td>\n",
       "      <td>0.003466</td>\n",
       "      <td>0.000650</td>\n",
       "      <td>-0.001457</td>\n",
       "    </tr>\n",
       "    <tr>\n",
       "      <th>var_8</th>\n",
       "      <td>0.004962</td>\n",
       "      <td>0.004098</td>\n",
       "      <td>0.002648</td>\n",
       "      <td>0.003553</td>\n",
       "      <td>0.001194</td>\n",
       "      <td>0.000147</td>\n",
       "      <td>-1.187995e-03</td>\n",
       "      <td>0.000814</td>\n",
       "      <td>1.000000</td>\n",
       "      <td>-0.001073</td>\n",
       "      <td>...</td>\n",
       "      <td>0.002923</td>\n",
       "      <td>-0.001151</td>\n",
       "      <td>-0.000429</td>\n",
       "      <td>0.001414</td>\n",
       "      <td>0.001313</td>\n",
       "      <td>0.001396</td>\n",
       "      <td>-0.003242</td>\n",
       "      <td>-0.004583</td>\n",
       "      <td>0.002950</td>\n",
       "      <td>0.000854</td>\n",
       "    </tr>\n",
       "    <tr>\n",
       "      <th>var_9</th>\n",
       "      <td>-0.002613</td>\n",
       "      <td>-0.000832</td>\n",
       "      <td>-0.001932</td>\n",
       "      <td>-0.000826</td>\n",
       "      <td>-0.000918</td>\n",
       "      <td>-0.005279</td>\n",
       "      <td>-5.696919e-03</td>\n",
       "      <td>0.002885</td>\n",
       "      <td>-0.001073</td>\n",
       "      <td>1.000000</td>\n",
       "      <td>...</td>\n",
       "      <td>-0.000871</td>\n",
       "      <td>-0.002371</td>\n",
       "      <td>-0.000014</td>\n",
       "      <td>-0.001407</td>\n",
       "      <td>0.003099</td>\n",
       "      <td>-0.000868</td>\n",
       "      <td>0.000052</td>\n",
       "      <td>0.003701</td>\n",
       "      <td>0.002343</td>\n",
       "      <td>0.001070</td>\n",
       "    </tr>\n",
       "    <tr>\n",
       "      <th>var_10</th>\n",
       "      <td>0.000355</td>\n",
       "      <td>0.002875</td>\n",
       "      <td>-0.000474</td>\n",
       "      <td>-0.000897</td>\n",
       "      <td>-0.003445</td>\n",
       "      <td>0.000332</td>\n",
       "      <td>1.503099e-03</td>\n",
       "      <td>0.000359</td>\n",
       "      <td>-0.000750</td>\n",
       "      <td>0.001553</td>\n",
       "      <td>...</td>\n",
       "      <td>0.000085</td>\n",
       "      <td>-0.003206</td>\n",
       "      <td>0.000260</td>\n",
       "      <td>-0.000256</td>\n",
       "      <td>0.000843</td>\n",
       "      <td>-0.000204</td>\n",
       "      <td>-0.002243</td>\n",
       "      <td>0.002680</td>\n",
       "      <td>-0.001546</td>\n",
       "      <td>-0.003561</td>\n",
       "    </tr>\n",
       "    <tr>\n",
       "      <th>var_11</th>\n",
       "      <td>0.003468</td>\n",
       "      <td>0.004778</td>\n",
       "      <td>0.005180</td>\n",
       "      <td>0.000482</td>\n",
       "      <td>0.000780</td>\n",
       "      <td>-0.001072</td>\n",
       "      <td>-5.486462e-04</td>\n",
       "      <td>0.000905</td>\n",
       "      <td>-0.001795</td>\n",
       "      <td>-0.003841</td>\n",
       "      <td>...</td>\n",
       "      <td>0.002299</td>\n",
       "      <td>-0.001298</td>\n",
       "      <td>-0.001192</td>\n",
       "      <td>-0.000881</td>\n",
       "      <td>-0.002356</td>\n",
       "      <td>-0.000501</td>\n",
       "      <td>0.006086</td>\n",
       "      <td>-0.005642</td>\n",
       "      <td>-0.000968</td>\n",
       "      <td>0.000037</td>\n",
       "    </tr>\n",
       "    <tr>\n",
       "      <th>var_12</th>\n",
       "      <td>-0.001996</td>\n",
       "      <td>-0.001977</td>\n",
       "      <td>-0.003781</td>\n",
       "      <td>-0.001794</td>\n",
       "      <td>0.000333</td>\n",
       "      <td>-0.000325</td>\n",
       "      <td>-3.375982e-03</td>\n",
       "      <td>0.002463</td>\n",
       "      <td>-0.004330</td>\n",
       "      <td>0.001863</td>\n",
       "      <td>...</td>\n",
       "      <td>0.002374</td>\n",
       "      <td>-0.004543</td>\n",
       "      <td>0.003527</td>\n",
       "      <td>0.001867</td>\n",
       "      <td>-0.000090</td>\n",
       "      <td>0.000721</td>\n",
       "      <td>-0.002249</td>\n",
       "      <td>0.002946</td>\n",
       "      <td>0.007545</td>\n",
       "      <td>-0.001016</td>\n",
       "    </tr>\n",
       "    <tr>\n",
       "      <th>var_13</th>\n",
       "      <td>-0.002717</td>\n",
       "      <td>-0.001303</td>\n",
       "      <td>-0.008795</td>\n",
       "      <td>-0.005717</td>\n",
       "      <td>0.002298</td>\n",
       "      <td>-0.003540</td>\n",
       "      <td>-5.506370e-03</td>\n",
       "      <td>0.003717</td>\n",
       "      <td>-0.002239</td>\n",
       "      <td>-0.000119</td>\n",
       "      <td>...</td>\n",
       "      <td>-0.000363</td>\n",
       "      <td>-0.001452</td>\n",
       "      <td>-0.002237</td>\n",
       "      <td>0.003665</td>\n",
       "      <td>0.001592</td>\n",
       "      <td>-0.006739</td>\n",
       "      <td>-0.001792</td>\n",
       "      <td>-0.004304</td>\n",
       "      <td>-0.001896</td>\n",
       "      <td>-0.003060</td>\n",
       "    </tr>\n",
       "    <tr>\n",
       "      <th>var_14</th>\n",
       "      <td>-0.004584</td>\n",
       "      <td>-0.001544</td>\n",
       "      <td>-0.002627</td>\n",
       "      <td>0.000534</td>\n",
       "      <td>-0.000919</td>\n",
       "      <td>-0.000620</td>\n",
       "      <td>-2.692727e-03</td>\n",
       "      <td>-0.000214</td>\n",
       "      <td>0.001234</td>\n",
       "      <td>0.002019</td>\n",
       "      <td>...</td>\n",
       "      <td>0.000166</td>\n",
       "      <td>0.000757</td>\n",
       "      <td>0.002912</td>\n",
       "      <td>0.003790</td>\n",
       "      <td>-0.001711</td>\n",
       "      <td>-0.002081</td>\n",
       "      <td>0.000639</td>\n",
       "      <td>0.003843</td>\n",
       "      <td>-0.000571</td>\n",
       "      <td>-0.004266</td>\n",
       "    </tr>\n",
       "    <tr>\n",
       "      <th>var_15</th>\n",
       "      <td>-0.000043</td>\n",
       "      <td>0.004946</td>\n",
       "      <td>0.004063</td>\n",
       "      <td>0.003093</td>\n",
       "      <td>-0.000527</td>\n",
       "      <td>0.003236</td>\n",
       "      <td>1.811175e-03</td>\n",
       "      <td>0.000917</td>\n",
       "      <td>0.004312</td>\n",
       "      <td>-0.006054</td>\n",
       "      <td>...</td>\n",
       "      <td>0.003582</td>\n",
       "      <td>-0.004231</td>\n",
       "      <td>-0.002618</td>\n",
       "      <td>0.000811</td>\n",
       "      <td>0.000142</td>\n",
       "      <td>-0.001442</td>\n",
       "      <td>0.001268</td>\n",
       "      <td>-0.001167</td>\n",
       "      <td>0.000382</td>\n",
       "      <td>0.002613</td>\n",
       "    </tr>\n",
       "    <tr>\n",
       "      <th>var_16</th>\n",
       "      <td>0.001112</td>\n",
       "      <td>-0.002481</td>\n",
       "      <td>0.000102</td>\n",
       "      <td>0.003011</td>\n",
       "      <td>0.001264</td>\n",
       "      <td>-0.000460</td>\n",
       "      <td>2.594353e-03</td>\n",
       "      <td>0.000982</td>\n",
       "      <td>0.000783</td>\n",
       "      <td>-0.001665</td>\n",
       "      <td>...</td>\n",
       "      <td>0.000557</td>\n",
       "      <td>0.000742</td>\n",
       "      <td>0.001268</td>\n",
       "      <td>-0.003401</td>\n",
       "      <td>0.000732</td>\n",
       "      <td>0.003222</td>\n",
       "      <td>-0.000405</td>\n",
       "      <td>0.001704</td>\n",
       "      <td>0.002018</td>\n",
       "      <td>-0.000637</td>\n",
       "    </tr>\n",
       "    <tr>\n",
       "      <th>var_17</th>\n",
       "      <td>-0.001664</td>\n",
       "      <td>-0.001180</td>\n",
       "      <td>0.000841</td>\n",
       "      <td>0.003618</td>\n",
       "      <td>-0.000306</td>\n",
       "      <td>-0.002670</td>\n",
       "      <td>6.782693e-04</td>\n",
       "      <td>-0.001570</td>\n",
       "      <td>0.002855</td>\n",
       "      <td>0.000984</td>\n",
       "      <td>...</td>\n",
       "      <td>0.003832</td>\n",
       "      <td>-0.001792</td>\n",
       "      <td>-0.002563</td>\n",
       "      <td>-0.001621</td>\n",
       "      <td>-0.001208</td>\n",
       "      <td>-0.000691</td>\n",
       "      <td>-0.001484</td>\n",
       "      <td>-0.000425</td>\n",
       "      <td>0.001190</td>\n",
       "      <td>-0.002404</td>\n",
       "    </tr>\n",
       "    <tr>\n",
       "      <th>var_18</th>\n",
       "      <td>0.004292</td>\n",
       "      <td>0.000289</td>\n",
       "      <td>0.003529</td>\n",
       "      <td>0.000995</td>\n",
       "      <td>0.000895</td>\n",
       "      <td>0.000639</td>\n",
       "      <td>1.998415e-03</td>\n",
       "      <td>0.000198</td>\n",
       "      <td>-0.000369</td>\n",
       "      <td>-0.000570</td>\n",
       "      <td>...</td>\n",
       "      <td>0.002815</td>\n",
       "      <td>0.003587</td>\n",
       "      <td>-0.007355</td>\n",
       "      <td>0.000316</td>\n",
       "      <td>0.000618</td>\n",
       "      <td>0.006409</td>\n",
       "      <td>0.004927</td>\n",
       "      <td>-0.003269</td>\n",
       "      <td>-0.004619</td>\n",
       "      <td>-0.001419</td>\n",
       "    </tr>\n",
       "    <tr>\n",
       "      <th>var_19</th>\n",
       "      <td>0.001505</td>\n",
       "      <td>0.001246</td>\n",
       "      <td>0.001643</td>\n",
       "      <td>-0.000481</td>\n",
       "      <td>0.000586</td>\n",
       "      <td>0.000885</td>\n",
       "      <td>1.236699e-03</td>\n",
       "      <td>0.004030</td>\n",
       "      <td>0.000089</td>\n",
       "      <td>-0.000316</td>\n",
       "      <td>...</td>\n",
       "      <td>0.001659</td>\n",
       "      <td>0.003059</td>\n",
       "      <td>0.001645</td>\n",
       "      <td>0.003283</td>\n",
       "      <td>-0.001154</td>\n",
       "      <td>-0.000721</td>\n",
       "      <td>-0.002899</td>\n",
       "      <td>-0.000325</td>\n",
       "      <td>0.001284</td>\n",
       "      <td>-0.002175</td>\n",
       "    </tr>\n",
       "    <tr>\n",
       "      <th>var_20</th>\n",
       "      <td>-0.000932</td>\n",
       "      <td>-0.002255</td>\n",
       "      <td>0.002162</td>\n",
       "      <td>0.003385</td>\n",
       "      <td>0.000235</td>\n",
       "      <td>-0.000046</td>\n",
       "      <td>-3.874311e-03</td>\n",
       "      <td>-0.002362</td>\n",
       "      <td>-0.001400</td>\n",
       "      <td>-0.002297</td>\n",
       "      <td>...</td>\n",
       "      <td>0.000715</td>\n",
       "      <td>-0.001261</td>\n",
       "      <td>0.000396</td>\n",
       "      <td>-0.001155</td>\n",
       "      <td>-0.003702</td>\n",
       "      <td>0.001853</td>\n",
       "      <td>0.000531</td>\n",
       "      <td>0.000335</td>\n",
       "      <td>0.005043</td>\n",
       "      <td>-0.002770</td>\n",
       "    </tr>\n",
       "    <tr>\n",
       "      <th>var_21</th>\n",
       "      <td>0.000781</td>\n",
       "      <td>-0.001519</td>\n",
       "      <td>-0.006885</td>\n",
       "      <td>-0.000037</td>\n",
       "      <td>0.000575</td>\n",
       "      <td>-0.004115</td>\n",
       "      <td>-4.874859e-03</td>\n",
       "      <td>-0.000611</td>\n",
       "      <td>-0.003147</td>\n",
       "      <td>0.001035</td>\n",
       "      <td>...</td>\n",
       "      <td>-0.002349</td>\n",
       "      <td>-0.002436</td>\n",
       "      <td>0.000640</td>\n",
       "      <td>0.001769</td>\n",
       "      <td>0.000998</td>\n",
       "      <td>-0.003916</td>\n",
       "      <td>-0.003316</td>\n",
       "      <td>0.002419</td>\n",
       "      <td>0.001164</td>\n",
       "      <td>-0.002598</td>\n",
       "    </tr>\n",
       "    <tr>\n",
       "      <th>var_22</th>\n",
       "      <td>0.002322</td>\n",
       "      <td>0.001762</td>\n",
       "      <td>0.000297</td>\n",
       "      <td>-0.002905</td>\n",
       "      <td>-0.003167</td>\n",
       "      <td>0.001177</td>\n",
       "      <td>2.248964e-03</td>\n",
       "      <td>-0.002430</td>\n",
       "      <td>0.004329</td>\n",
       "      <td>-0.005428</td>\n",
       "      <td>...</td>\n",
       "      <td>0.003199</td>\n",
       "      <td>-0.000231</td>\n",
       "      <td>-0.001101</td>\n",
       "      <td>-0.000630</td>\n",
       "      <td>0.002985</td>\n",
       "      <td>0.001618</td>\n",
       "      <td>-0.000147</td>\n",
       "      <td>0.002285</td>\n",
       "      <td>-0.005303</td>\n",
       "      <td>0.003568</td>\n",
       "    </tr>\n",
       "    <tr>\n",
       "      <th>var_23</th>\n",
       "      <td>-0.000987</td>\n",
       "      <td>0.003606</td>\n",
       "      <td>0.002280</td>\n",
       "      <td>0.001633</td>\n",
       "      <td>0.001963</td>\n",
       "      <td>0.001174</td>\n",
       "      <td>-3.764118e-03</td>\n",
       "      <td>0.002682</td>\n",
       "      <td>0.001852</td>\n",
       "      <td>0.001751</td>\n",
       "      <td>...</td>\n",
       "      <td>0.000595</td>\n",
       "      <td>-0.001138</td>\n",
       "      <td>0.006646</td>\n",
       "      <td>-0.000011</td>\n",
       "      <td>0.001193</td>\n",
       "      <td>-0.001793</td>\n",
       "      <td>0.000748</td>\n",
       "      <td>-0.001586</td>\n",
       "      <td>0.001267</td>\n",
       "      <td>0.001140</td>\n",
       "    </tr>\n",
       "    <tr>\n",
       "      <th>var_24</th>\n",
       "      <td>0.003658</td>\n",
       "      <td>0.001417</td>\n",
       "      <td>0.001693</td>\n",
       "      <td>-0.002006</td>\n",
       "      <td>0.003874</td>\n",
       "      <td>-0.000168</td>\n",
       "      <td>3.376412e-03</td>\n",
       "      <td>-0.000436</td>\n",
       "      <td>0.000906</td>\n",
       "      <td>-0.004069</td>\n",
       "      <td>...</td>\n",
       "      <td>-0.001664</td>\n",
       "      <td>-0.000363</td>\n",
       "      <td>0.003448</td>\n",
       "      <td>0.003698</td>\n",
       "      <td>0.003553</td>\n",
       "      <td>0.001365</td>\n",
       "      <td>0.002193</td>\n",
       "      <td>0.004293</td>\n",
       "      <td>0.001555</td>\n",
       "      <td>-0.000527</td>\n",
       "    </tr>\n",
       "    <tr>\n",
       "      <th>var_25</th>\n",
       "      <td>0.001158</td>\n",
       "      <td>0.000844</td>\n",
       "      <td>-0.000913</td>\n",
       "      <td>-0.002307</td>\n",
       "      <td>0.001686</td>\n",
       "      <td>-0.002812</td>\n",
       "      <td>-3.907546e-04</td>\n",
       "      <td>0.000211</td>\n",
       "      <td>0.004222</td>\n",
       "      <td>0.004238</td>\n",
       "      <td>...</td>\n",
       "      <td>0.000538</td>\n",
       "      <td>-0.000063</td>\n",
       "      <td>-0.001795</td>\n",
       "      <td>0.003385</td>\n",
       "      <td>-0.001059</td>\n",
       "      <td>0.000093</td>\n",
       "      <td>0.000008</td>\n",
       "      <td>0.002041</td>\n",
       "      <td>-0.001635</td>\n",
       "      <td>0.001498</td>\n",
       "    </tr>\n",
       "    <tr>\n",
       "      <th>var_26</th>\n",
       "      <td>0.006117</td>\n",
       "      <td>0.004778</td>\n",
       "      <td>0.006138</td>\n",
       "      <td>0.001946</td>\n",
       "      <td>0.001286</td>\n",
       "      <td>0.004104</td>\n",
       "      <td>4.878163e-03</td>\n",
       "      <td>-0.001985</td>\n",
       "      <td>0.002295</td>\n",
       "      <td>-0.004573</td>\n",
       "      <td>...</td>\n",
       "      <td>0.002837</td>\n",
       "      <td>0.000113</td>\n",
       "      <td>-0.000380</td>\n",
       "      <td>0.001913</td>\n",
       "      <td>-0.004273</td>\n",
       "      <td>0.001488</td>\n",
       "      <td>0.000300</td>\n",
       "      <td>-0.004430</td>\n",
       "      <td>-0.005124</td>\n",
       "      <td>0.003651</td>\n",
       "    </tr>\n",
       "    <tr>\n",
       "      <th>var_27</th>\n",
       "      <td>0.000985</td>\n",
       "      <td>-0.004551</td>\n",
       "      <td>0.000224</td>\n",
       "      <td>-0.001970</td>\n",
       "      <td>-0.001692</td>\n",
       "      <td>0.002713</td>\n",
       "      <td>1.604726e-03</td>\n",
       "      <td>0.001701</td>\n",
       "      <td>0.000759</td>\n",
       "      <td>-0.000287</td>\n",
       "      <td>...</td>\n",
       "      <td>0.000792</td>\n",
       "      <td>0.001802</td>\n",
       "      <td>0.003442</td>\n",
       "      <td>0.000253</td>\n",
       "      <td>-0.001118</td>\n",
       "      <td>-0.003153</td>\n",
       "      <td>-0.001198</td>\n",
       "      <td>0.000005</td>\n",
       "      <td>-0.002254</td>\n",
       "      <td>-0.000011</td>\n",
       "    </tr>\n",
       "    <tr>\n",
       "      <th>var_28</th>\n",
       "      <td>0.001081</td>\n",
       "      <td>-0.002463</td>\n",
       "      <td>-0.000424</td>\n",
       "      <td>-0.003186</td>\n",
       "      <td>-0.000036</td>\n",
       "      <td>0.000307</td>\n",
       "      <td>1.344682e-03</td>\n",
       "      <td>0.003225</td>\n",
       "      <td>0.004372</td>\n",
       "      <td>-0.002689</td>\n",
       "      <td>...</td>\n",
       "      <td>-0.001971</td>\n",
       "      <td>-0.003795</td>\n",
       "      <td>0.000808</td>\n",
       "      <td>0.002092</td>\n",
       "      <td>-0.000462</td>\n",
       "      <td>0.002108</td>\n",
       "      <td>-0.001430</td>\n",
       "      <td>-0.001648</td>\n",
       "      <td>-0.002587</td>\n",
       "      <td>0.001034</td>\n",
       "    </tr>\n",
       "    <tr>\n",
       "      <th>var_29</th>\n",
       "      <td>-0.000426</td>\n",
       "      <td>0.006328</td>\n",
       "      <td>0.000480</td>\n",
       "      <td>0.001003</td>\n",
       "      <td>0.002694</td>\n",
       "      <td>0.002291</td>\n",
       "      <td>-3.005674e-03</td>\n",
       "      <td>-0.002538</td>\n",
       "      <td>-0.001461</td>\n",
       "      <td>-0.001040</td>\n",
       "      <td>...</td>\n",
       "      <td>0.003061</td>\n",
       "      <td>-0.000410</td>\n",
       "      <td>0.002500</td>\n",
       "      <td>-0.001017</td>\n",
       "      <td>0.000328</td>\n",
       "      <td>-0.002753</td>\n",
       "      <td>0.003636</td>\n",
       "      <td>0.002707</td>\n",
       "      <td>0.001481</td>\n",
       "      <td>0.000516</td>\n",
       "    </tr>\n",
       "    <tr>\n",
       "      <th>...</th>\n",
       "      <td>...</td>\n",
       "      <td>...</td>\n",
       "      <td>...</td>\n",
       "      <td>...</td>\n",
       "      <td>...</td>\n",
       "      <td>...</td>\n",
       "      <td>...</td>\n",
       "      <td>...</td>\n",
       "      <td>...</td>\n",
       "      <td>...</td>\n",
       "      <td>...</td>\n",
       "      <td>...</td>\n",
       "      <td>...</td>\n",
       "      <td>...</td>\n",
       "      <td>...</td>\n",
       "      <td>...</td>\n",
       "      <td>...</td>\n",
       "      <td>...</td>\n",
       "      <td>...</td>\n",
       "      <td>...</td>\n",
       "      <td>...</td>\n",
       "    </tr>\n",
       "    <tr>\n",
       "      <th>var_170</th>\n",
       "      <td>0.002574</td>\n",
       "      <td>0.001036</td>\n",
       "      <td>0.003445</td>\n",
       "      <td>-0.003915</td>\n",
       "      <td>0.000186</td>\n",
       "      <td>0.002664</td>\n",
       "      <td>2.327298e-03</td>\n",
       "      <td>-0.002159</td>\n",
       "      <td>0.002572</td>\n",
       "      <td>-0.000920</td>\n",
       "      <td>...</td>\n",
       "      <td>0.003533</td>\n",
       "      <td>0.001397</td>\n",
       "      <td>-0.003700</td>\n",
       "      <td>-0.001268</td>\n",
       "      <td>-0.003137</td>\n",
       "      <td>0.000752</td>\n",
       "      <td>-0.002071</td>\n",
       "      <td>0.005171</td>\n",
       "      <td>0.000171</td>\n",
       "      <td>0.000970</td>\n",
       "    </tr>\n",
       "    <tr>\n",
       "      <th>var_171</th>\n",
       "      <td>0.001678</td>\n",
       "      <td>0.004399</td>\n",
       "      <td>-0.000273</td>\n",
       "      <td>0.000810</td>\n",
       "      <td>-0.007080</td>\n",
       "      <td>-0.002836</td>\n",
       "      <td>2.418232e-03</td>\n",
       "      <td>-0.002607</td>\n",
       "      <td>0.001080</td>\n",
       "      <td>0.003953</td>\n",
       "      <td>...</td>\n",
       "      <td>0.007570</td>\n",
       "      <td>0.000144</td>\n",
       "      <td>-0.000284</td>\n",
       "      <td>-0.004311</td>\n",
       "      <td>-0.002582</td>\n",
       "      <td>0.002225</td>\n",
       "      <td>-0.000028</td>\n",
       "      <td>-0.002478</td>\n",
       "      <td>-0.000382</td>\n",
       "      <td>-0.001210</td>\n",
       "    </tr>\n",
       "    <tr>\n",
       "      <th>var_172</th>\n",
       "      <td>-0.005587</td>\n",
       "      <td>-0.002802</td>\n",
       "      <td>0.001126</td>\n",
       "      <td>0.000391</td>\n",
       "      <td>0.000813</td>\n",
       "      <td>-0.004309</td>\n",
       "      <td>-6.036977e-04</td>\n",
       "      <td>0.001792</td>\n",
       "      <td>-0.005043</td>\n",
       "      <td>-0.000311</td>\n",
       "      <td>...</td>\n",
       "      <td>-0.001456</td>\n",
       "      <td>0.002754</td>\n",
       "      <td>0.003414</td>\n",
       "      <td>0.008163</td>\n",
       "      <td>0.001774</td>\n",
       "      <td>-0.000904</td>\n",
       "      <td>0.001377</td>\n",
       "      <td>0.000754</td>\n",
       "      <td>-0.001549</td>\n",
       "      <td>-0.002997</td>\n",
       "    </tr>\n",
       "    <tr>\n",
       "      <th>var_173</th>\n",
       "      <td>0.002499</td>\n",
       "      <td>0.002784</td>\n",
       "      <td>0.000710</td>\n",
       "      <td>0.000896</td>\n",
       "      <td>-0.000979</td>\n",
       "      <td>0.002448</td>\n",
       "      <td>-5.942735e-08</td>\n",
       "      <td>-0.000583</td>\n",
       "      <td>0.001088</td>\n",
       "      <td>-0.004578</td>\n",
       "      <td>...</td>\n",
       "      <td>-0.000535</td>\n",
       "      <td>0.000786</td>\n",
       "      <td>-0.003278</td>\n",
       "      <td>-0.005466</td>\n",
       "      <td>-0.002586</td>\n",
       "      <td>0.003928</td>\n",
       "      <td>0.000662</td>\n",
       "      <td>-0.005428</td>\n",
       "      <td>-0.000410</td>\n",
       "      <td>-0.000286</td>\n",
       "    </tr>\n",
       "    <tr>\n",
       "      <th>var_174</th>\n",
       "      <td>-0.000683</td>\n",
       "      <td>-0.004758</td>\n",
       "      <td>-0.006836</td>\n",
       "      <td>-0.001661</td>\n",
       "      <td>-0.000577</td>\n",
       "      <td>-0.001304</td>\n",
       "      <td>-5.838427e-03</td>\n",
       "      <td>-0.002979</td>\n",
       "      <td>-0.001510</td>\n",
       "      <td>0.001110</td>\n",
       "      <td>...</td>\n",
       "      <td>-0.004639</td>\n",
       "      <td>-0.003262</td>\n",
       "      <td>0.002385</td>\n",
       "      <td>-0.000734</td>\n",
       "      <td>0.003560</td>\n",
       "      <td>-0.003532</td>\n",
       "      <td>-0.001449</td>\n",
       "      <td>-0.000391</td>\n",
       "      <td>0.002679</td>\n",
       "      <td>-0.002023</td>\n",
       "    </tr>\n",
       "    <tr>\n",
       "      <th>var_175</th>\n",
       "      <td>-0.000546</td>\n",
       "      <td>0.001693</td>\n",
       "      <td>-0.001028</td>\n",
       "      <td>0.000777</td>\n",
       "      <td>0.001525</td>\n",
       "      <td>0.002841</td>\n",
       "      <td>1.488703e-03</td>\n",
       "      <td>0.000257</td>\n",
       "      <td>-0.000411</td>\n",
       "      <td>-0.001979</td>\n",
       "      <td>...</td>\n",
       "      <td>0.001213</td>\n",
       "      <td>-0.000813</td>\n",
       "      <td>0.000588</td>\n",
       "      <td>0.001046</td>\n",
       "      <td>-0.001544</td>\n",
       "      <td>-0.002869</td>\n",
       "      <td>0.002070</td>\n",
       "      <td>-0.003062</td>\n",
       "      <td>0.001439</td>\n",
       "      <td>-0.000117</td>\n",
       "    </tr>\n",
       "    <tr>\n",
       "      <th>var_176</th>\n",
       "      <td>0.001197</td>\n",
       "      <td>-0.001331</td>\n",
       "      <td>0.000362</td>\n",
       "      <td>0.002612</td>\n",
       "      <td>0.000484</td>\n",
       "      <td>-0.002574</td>\n",
       "      <td>3.628451e-03</td>\n",
       "      <td>-0.000303</td>\n",
       "      <td>0.002278</td>\n",
       "      <td>0.002531</td>\n",
       "      <td>...</td>\n",
       "      <td>-0.003470</td>\n",
       "      <td>-0.000513</td>\n",
       "      <td>-0.004594</td>\n",
       "      <td>-0.000250</td>\n",
       "      <td>-0.001405</td>\n",
       "      <td>-0.003905</td>\n",
       "      <td>0.000963</td>\n",
       "      <td>-0.000055</td>\n",
       "      <td>0.002079</td>\n",
       "      <td>0.001157</td>\n",
       "    </tr>\n",
       "    <tr>\n",
       "      <th>var_177</th>\n",
       "      <td>0.000953</td>\n",
       "      <td>0.002266</td>\n",
       "      <td>-0.004572</td>\n",
       "      <td>-0.002112</td>\n",
       "      <td>-0.002670</td>\n",
       "      <td>-0.001776</td>\n",
       "      <td>-1.282888e-03</td>\n",
       "      <td>0.001566</td>\n",
       "      <td>-0.003845</td>\n",
       "      <td>-0.000545</td>\n",
       "      <td>...</td>\n",
       "      <td>-0.006591</td>\n",
       "      <td>-0.003111</td>\n",
       "      <td>-0.000661</td>\n",
       "      <td>0.000040</td>\n",
       "      <td>-0.004512</td>\n",
       "      <td>-0.004543</td>\n",
       "      <td>-0.000503</td>\n",
       "      <td>0.000470</td>\n",
       "      <td>0.000910</td>\n",
       "      <td>-0.001324</td>\n",
       "    </tr>\n",
       "    <tr>\n",
       "      <th>var_178</th>\n",
       "      <td>0.001165</td>\n",
       "      <td>-0.002005</td>\n",
       "      <td>-0.003408</td>\n",
       "      <td>0.003307</td>\n",
       "      <td>0.000021</td>\n",
       "      <td>0.000375</td>\n",
       "      <td>9.122592e-05</td>\n",
       "      <td>0.001182</td>\n",
       "      <td>0.000649</td>\n",
       "      <td>0.001652</td>\n",
       "      <td>...</td>\n",
       "      <td>-0.003831</td>\n",
       "      <td>-0.003089</td>\n",
       "      <td>0.001094</td>\n",
       "      <td>0.000646</td>\n",
       "      <td>0.002387</td>\n",
       "      <td>-0.002347</td>\n",
       "      <td>0.002288</td>\n",
       "      <td>-0.002700</td>\n",
       "      <td>0.003372</td>\n",
       "      <td>-0.003479</td>\n",
       "    </tr>\n",
       "    <tr>\n",
       "      <th>var_179</th>\n",
       "      <td>0.003447</td>\n",
       "      <td>0.000883</td>\n",
       "      <td>0.001823</td>\n",
       "      <td>-0.000462</td>\n",
       "      <td>0.000302</td>\n",
       "      <td>-0.005686</td>\n",
       "      <td>-1.083177e-03</td>\n",
       "      <td>-0.000178</td>\n",
       "      <td>0.001923</td>\n",
       "      <td>-0.003237</td>\n",
       "      <td>...</td>\n",
       "      <td>0.002017</td>\n",
       "      <td>0.006879</td>\n",
       "      <td>0.000006</td>\n",
       "      <td>-0.002022</td>\n",
       "      <td>-0.001880</td>\n",
       "      <td>-0.000993</td>\n",
       "      <td>0.002740</td>\n",
       "      <td>0.003045</td>\n",
       "      <td>-0.000959</td>\n",
       "      <td>-0.004120</td>\n",
       "    </tr>\n",
       "    <tr>\n",
       "      <th>var_180</th>\n",
       "      <td>0.001939</td>\n",
       "      <td>0.003376</td>\n",
       "      <td>0.002365</td>\n",
       "      <td>-0.003653</td>\n",
       "      <td>-0.002452</td>\n",
       "      <td>-0.000495</td>\n",
       "      <td>-1.327168e-04</td>\n",
       "      <td>0.000149</td>\n",
       "      <td>0.000400</td>\n",
       "      <td>0.000126</td>\n",
       "      <td>...</td>\n",
       "      <td>-0.000962</td>\n",
       "      <td>0.006295</td>\n",
       "      <td>-0.002815</td>\n",
       "      <td>-0.002295</td>\n",
       "      <td>-0.002509</td>\n",
       "      <td>-0.000241</td>\n",
       "      <td>0.001153</td>\n",
       "      <td>-0.002536</td>\n",
       "      <td>-0.001624</td>\n",
       "      <td>0.004855</td>\n",
       "    </tr>\n",
       "    <tr>\n",
       "      <th>var_181</th>\n",
       "      <td>0.001952</td>\n",
       "      <td>0.000008</td>\n",
       "      <td>-0.002341</td>\n",
       "      <td>0.000037</td>\n",
       "      <td>-0.002814</td>\n",
       "      <td>-0.001518</td>\n",
       "      <td>9.875453e-04</td>\n",
       "      <td>0.002293</td>\n",
       "      <td>0.000345</td>\n",
       "      <td>-0.002632</td>\n",
       "      <td>...</td>\n",
       "      <td>0.001384</td>\n",
       "      <td>-0.001379</td>\n",
       "      <td>-0.001130</td>\n",
       "      <td>0.000327</td>\n",
       "      <td>-0.002983</td>\n",
       "      <td>-0.000059</td>\n",
       "      <td>-0.001575</td>\n",
       "      <td>0.000755</td>\n",
       "      <td>-0.001818</td>\n",
       "      <td>-0.000330</td>\n",
       "    </tr>\n",
       "    <tr>\n",
       "      <th>var_182</th>\n",
       "      <td>-0.001957</td>\n",
       "      <td>0.001516</td>\n",
       "      <td>-0.001202</td>\n",
       "      <td>0.000629</td>\n",
       "      <td>0.000016</td>\n",
       "      <td>0.001121</td>\n",
       "      <td>6.022236e-04</td>\n",
       "      <td>0.002590</td>\n",
       "      <td>-0.000260</td>\n",
       "      <td>0.002441</td>\n",
       "      <td>...</td>\n",
       "      <td>0.001846</td>\n",
       "      <td>-0.000466</td>\n",
       "      <td>-0.000266</td>\n",
       "      <td>0.000430</td>\n",
       "      <td>-0.000789</td>\n",
       "      <td>-0.002795</td>\n",
       "      <td>0.002760</td>\n",
       "      <td>0.001797</td>\n",
       "      <td>-0.001379</td>\n",
       "      <td>0.001640</td>\n",
       "    </tr>\n",
       "    <tr>\n",
       "      <th>var_183</th>\n",
       "      <td>-0.001721</td>\n",
       "      <td>0.001055</td>\n",
       "      <td>0.002198</td>\n",
       "      <td>0.003642</td>\n",
       "      <td>-0.002027</td>\n",
       "      <td>0.001875</td>\n",
       "      <td>2.548808e-04</td>\n",
       "      <td>0.003907</td>\n",
       "      <td>0.001826</td>\n",
       "      <td>-0.000867</td>\n",
       "      <td>...</td>\n",
       "      <td>-0.003261</td>\n",
       "      <td>-0.001435</td>\n",
       "      <td>0.000718</td>\n",
       "      <td>-0.000378</td>\n",
       "      <td>-0.001154</td>\n",
       "      <td>0.002653</td>\n",
       "      <td>-0.002535</td>\n",
       "      <td>0.000617</td>\n",
       "      <td>0.002719</td>\n",
       "      <td>-0.001917</td>\n",
       "    </tr>\n",
       "    <tr>\n",
       "      <th>var_184</th>\n",
       "      <td>-0.000554</td>\n",
       "      <td>-0.000248</td>\n",
       "      <td>0.003259</td>\n",
       "      <td>-0.001153</td>\n",
       "      <td>-0.004623</td>\n",
       "      <td>0.002998</td>\n",
       "      <td>3.793740e-03</td>\n",
       "      <td>-0.002067</td>\n",
       "      <td>0.002428</td>\n",
       "      <td>-0.004110</td>\n",
       "      <td>...</td>\n",
       "      <td>0.004254</td>\n",
       "      <td>0.004921</td>\n",
       "      <td>0.000315</td>\n",
       "      <td>-0.002472</td>\n",
       "      <td>-0.000762</td>\n",
       "      <td>0.001828</td>\n",
       "      <td>0.001539</td>\n",
       "      <td>0.001931</td>\n",
       "      <td>-0.004368</td>\n",
       "      <td>0.001839</td>\n",
       "    </tr>\n",
       "    <tr>\n",
       "      <th>var_185</th>\n",
       "      <td>0.001868</td>\n",
       "      <td>0.002600</td>\n",
       "      <td>0.003372</td>\n",
       "      <td>-0.001247</td>\n",
       "      <td>0.000176</td>\n",
       "      <td>-0.002092</td>\n",
       "      <td>1.168879e-03</td>\n",
       "      <td>0.002125</td>\n",
       "      <td>-0.003028</td>\n",
       "      <td>-0.000042</td>\n",
       "      <td>...</td>\n",
       "      <td>-0.000656</td>\n",
       "      <td>0.001708</td>\n",
       "      <td>0.002127</td>\n",
       "      <td>-0.000188</td>\n",
       "      <td>-0.002099</td>\n",
       "      <td>0.000490</td>\n",
       "      <td>-0.000227</td>\n",
       "      <td>0.000108</td>\n",
       "      <td>-0.000830</td>\n",
       "      <td>-0.000142</td>\n",
       "    </tr>\n",
       "    <tr>\n",
       "      <th>var_186</th>\n",
       "      <td>0.001267</td>\n",
       "      <td>0.002227</td>\n",
       "      <td>-0.001282</td>\n",
       "      <td>0.003210</td>\n",
       "      <td>0.000622</td>\n",
       "      <td>-0.000132</td>\n",
       "      <td>-4.722911e-03</td>\n",
       "      <td>-0.001653</td>\n",
       "      <td>-0.005311</td>\n",
       "      <td>0.000699</td>\n",
       "      <td>...</td>\n",
       "      <td>-0.002840</td>\n",
       "      <td>-0.003873</td>\n",
       "      <td>-0.000798</td>\n",
       "      <td>0.002692</td>\n",
       "      <td>0.004633</td>\n",
       "      <td>0.001357</td>\n",
       "      <td>-0.000319</td>\n",
       "      <td>0.003362</td>\n",
       "      <td>0.000047</td>\n",
       "      <td>-0.002140</td>\n",
       "    </tr>\n",
       "    <tr>\n",
       "      <th>var_187</th>\n",
       "      <td>0.001413</td>\n",
       "      <td>-0.000236</td>\n",
       "      <td>0.002799</td>\n",
       "      <td>-0.000505</td>\n",
       "      <td>0.002529</td>\n",
       "      <td>-0.001106</td>\n",
       "      <td>-8.944772e-04</td>\n",
       "      <td>0.000120</td>\n",
       "      <td>-0.002686</td>\n",
       "      <td>0.002530</td>\n",
       "      <td>...</td>\n",
       "      <td>-0.002656</td>\n",
       "      <td>-0.000139</td>\n",
       "      <td>-0.003770</td>\n",
       "      <td>0.003021</td>\n",
       "      <td>-0.000478</td>\n",
       "      <td>-0.001750</td>\n",
       "      <td>0.001610</td>\n",
       "      <td>0.001030</td>\n",
       "      <td>-0.001298</td>\n",
       "      <td>-0.000715</td>\n",
       "    </tr>\n",
       "    <tr>\n",
       "      <th>var_188</th>\n",
       "      <td>0.001770</td>\n",
       "      <td>-0.002185</td>\n",
       "      <td>0.000008</td>\n",
       "      <td>0.000289</td>\n",
       "      <td>0.000926</td>\n",
       "      <td>-0.000276</td>\n",
       "      <td>-2.597822e-03</td>\n",
       "      <td>0.000822</td>\n",
       "      <td>0.001673</td>\n",
       "      <td>0.003665</td>\n",
       "      <td>...</td>\n",
       "      <td>-0.001494</td>\n",
       "      <td>-0.002971</td>\n",
       "      <td>-0.004889</td>\n",
       "      <td>-0.001987</td>\n",
       "      <td>-0.000823</td>\n",
       "      <td>0.001763</td>\n",
       "      <td>0.002751</td>\n",
       "      <td>-0.000296</td>\n",
       "      <td>0.001503</td>\n",
       "      <td>-0.002079</td>\n",
       "    </tr>\n",
       "    <tr>\n",
       "      <th>var_189</th>\n",
       "      <td>0.000543</td>\n",
       "      <td>0.005840</td>\n",
       "      <td>0.002448</td>\n",
       "      <td>-0.001066</td>\n",
       "      <td>0.002004</td>\n",
       "      <td>0.003064</td>\n",
       "      <td>-2.368220e-03</td>\n",
       "      <td>0.003694</td>\n",
       "      <td>-0.000275</td>\n",
       "      <td>0.000146</td>\n",
       "      <td>...</td>\n",
       "      <td>-0.000482</td>\n",
       "      <td>0.000946</td>\n",
       "      <td>0.000974</td>\n",
       "      <td>-0.004493</td>\n",
       "      <td>-0.001092</td>\n",
       "      <td>0.004441</td>\n",
       "      <td>-0.000158</td>\n",
       "      <td>0.001096</td>\n",
       "      <td>0.000360</td>\n",
       "      <td>0.003081</td>\n",
       "    </tr>\n",
       "    <tr>\n",
       "      <th>var_190</th>\n",
       "      <td>0.002752</td>\n",
       "      <td>0.006627</td>\n",
       "      <td>0.000197</td>\n",
       "      <td>0.000151</td>\n",
       "      <td>0.001514</td>\n",
       "      <td>0.001466</td>\n",
       "      <td>7.213321e-04</td>\n",
       "      <td>-0.000337</td>\n",
       "      <td>0.002923</td>\n",
       "      <td>-0.000871</td>\n",
       "      <td>...</td>\n",
       "      <td>1.000000</td>\n",
       "      <td>0.002386</td>\n",
       "      <td>0.001339</td>\n",
       "      <td>-0.003886</td>\n",
       "      <td>-0.001878</td>\n",
       "      <td>0.004571</td>\n",
       "      <td>-0.000847</td>\n",
       "      <td>-0.004974</td>\n",
       "      <td>-0.000153</td>\n",
       "      <td>-0.000404</td>\n",
       "    </tr>\n",
       "    <tr>\n",
       "      <th>var_191</th>\n",
       "      <td>0.000206</td>\n",
       "      <td>0.003621</td>\n",
       "      <td>0.001285</td>\n",
       "      <td>0.002445</td>\n",
       "      <td>0.004357</td>\n",
       "      <td>-0.000022</td>\n",
       "      <td>5.604217e-03</td>\n",
       "      <td>-0.003957</td>\n",
       "      <td>-0.001151</td>\n",
       "      <td>-0.002371</td>\n",
       "      <td>...</td>\n",
       "      <td>0.002386</td>\n",
       "      <td>1.000000</td>\n",
       "      <td>-0.001994</td>\n",
       "      <td>-0.002235</td>\n",
       "      <td>-0.001877</td>\n",
       "      <td>0.000870</td>\n",
       "      <td>0.002466</td>\n",
       "      <td>0.000906</td>\n",
       "      <td>-0.000067</td>\n",
       "      <td>0.003595</td>\n",
       "    </tr>\n",
       "    <tr>\n",
       "      <th>var_192</th>\n",
       "      <td>-0.005373</td>\n",
       "      <td>-0.002604</td>\n",
       "      <td>-0.003400</td>\n",
       "      <td>-0.001530</td>\n",
       "      <td>0.003347</td>\n",
       "      <td>0.001116</td>\n",
       "      <td>-2.562816e-03</td>\n",
       "      <td>0.001733</td>\n",
       "      <td>-0.000429</td>\n",
       "      <td>-0.000014</td>\n",
       "      <td>...</td>\n",
       "      <td>0.001339</td>\n",
       "      <td>-0.001994</td>\n",
       "      <td>1.000000</td>\n",
       "      <td>0.000202</td>\n",
       "      <td>0.002084</td>\n",
       "      <td>-0.004745</td>\n",
       "      <td>-0.001386</td>\n",
       "      <td>-0.000527</td>\n",
       "      <td>0.003451</td>\n",
       "      <td>-0.001239</td>\n",
       "    </tr>\n",
       "    <tr>\n",
       "      <th>var_193</th>\n",
       "      <td>0.001616</td>\n",
       "      <td>0.001153</td>\n",
       "      <td>0.000549</td>\n",
       "      <td>-0.001699</td>\n",
       "      <td>0.000813</td>\n",
       "      <td>-0.002237</td>\n",
       "      <td>2.463706e-03</td>\n",
       "      <td>0.003219</td>\n",
       "      <td>0.001414</td>\n",
       "      <td>-0.001407</td>\n",
       "      <td>...</td>\n",
       "      <td>-0.003886</td>\n",
       "      <td>-0.002235</td>\n",
       "      <td>0.000202</td>\n",
       "      <td>1.000000</td>\n",
       "      <td>0.001586</td>\n",
       "      <td>-0.003143</td>\n",
       "      <td>-0.005308</td>\n",
       "      <td>0.005068</td>\n",
       "      <td>0.001646</td>\n",
       "      <td>-0.000552</td>\n",
       "    </tr>\n",
       "    <tr>\n",
       "      <th>var_194</th>\n",
       "      <td>-0.001514</td>\n",
       "      <td>-0.002557</td>\n",
       "      <td>0.002104</td>\n",
       "      <td>-0.001054</td>\n",
       "      <td>-0.000068</td>\n",
       "      <td>-0.002543</td>\n",
       "      <td>-1.140816e-03</td>\n",
       "      <td>-0.000270</td>\n",
       "      <td>0.001313</td>\n",
       "      <td>0.003099</td>\n",
       "      <td>...</td>\n",
       "      <td>-0.001878</td>\n",
       "      <td>-0.001877</td>\n",
       "      <td>0.002084</td>\n",
       "      <td>0.001586</td>\n",
       "      <td>1.000000</td>\n",
       "      <td>-0.001201</td>\n",
       "      <td>-0.005040</td>\n",
       "      <td>0.000884</td>\n",
       "      <td>0.003194</td>\n",
       "      <td>-0.005615</td>\n",
       "    </tr>\n",
       "    <tr>\n",
       "      <th>var_195</th>\n",
       "      <td>0.002073</td>\n",
       "      <td>-0.000785</td>\n",
       "      <td>-0.001070</td>\n",
       "      <td>0.001206</td>\n",
       "      <td>0.003706</td>\n",
       "      <td>-0.001274</td>\n",
       "      <td>1.243768e-03</td>\n",
       "      <td>0.001854</td>\n",
       "      <td>0.001396</td>\n",
       "      <td>-0.000868</td>\n",
       "      <td>...</td>\n",
       "      <td>0.004571</td>\n",
       "      <td>0.000870</td>\n",
       "      <td>-0.004745</td>\n",
       "      <td>-0.003143</td>\n",
       "      <td>-0.001201</td>\n",
       "      <td>1.000000</td>\n",
       "      <td>0.002517</td>\n",
       "      <td>-0.004170</td>\n",
       "      <td>-0.000536</td>\n",
       "      <td>0.002042</td>\n",
       "    </tr>\n",
       "    <tr>\n",
       "      <th>var_196</th>\n",
       "      <td>0.004386</td>\n",
       "      <td>-0.000377</td>\n",
       "      <td>0.003952</td>\n",
       "      <td>-0.002800</td>\n",
       "      <td>0.000513</td>\n",
       "      <td>0.002880</td>\n",
       "      <td>5.378485e-03</td>\n",
       "      <td>0.001045</td>\n",
       "      <td>-0.003242</td>\n",
       "      <td>0.000052</td>\n",
       "      <td>...</td>\n",
       "      <td>-0.000847</td>\n",
       "      <td>0.002466</td>\n",
       "      <td>-0.001386</td>\n",
       "      <td>-0.005308</td>\n",
       "      <td>-0.005040</td>\n",
       "      <td>0.002517</td>\n",
       "      <td>1.000000</td>\n",
       "      <td>-0.000454</td>\n",
       "      <td>0.000253</td>\n",
       "      <td>0.000607</td>\n",
       "    </tr>\n",
       "    <tr>\n",
       "      <th>var_197</th>\n",
       "      <td>-0.000753</td>\n",
       "      <td>-0.004157</td>\n",
       "      <td>0.001078</td>\n",
       "      <td>0.001164</td>\n",
       "      <td>-0.000046</td>\n",
       "      <td>-0.000535</td>\n",
       "      <td>-3.565184e-03</td>\n",
       "      <td>0.003466</td>\n",
       "      <td>-0.004583</td>\n",
       "      <td>0.003701</td>\n",
       "      <td>...</td>\n",
       "      <td>-0.004974</td>\n",
       "      <td>0.000906</td>\n",
       "      <td>-0.000527</td>\n",
       "      <td>0.005068</td>\n",
       "      <td>0.000884</td>\n",
       "      <td>-0.004170</td>\n",
       "      <td>-0.000454</td>\n",
       "      <td>1.000000</td>\n",
       "      <td>0.001183</td>\n",
       "      <td>0.004991</td>\n",
       "    </tr>\n",
       "    <tr>\n",
       "      <th>var_198</th>\n",
       "      <td>-0.005776</td>\n",
       "      <td>-0.004861</td>\n",
       "      <td>-0.000877</td>\n",
       "      <td>-0.001651</td>\n",
       "      <td>-0.001821</td>\n",
       "      <td>-0.000953</td>\n",
       "      <td>-3.024674e-03</td>\n",
       "      <td>0.000650</td>\n",
       "      <td>0.002950</td>\n",
       "      <td>0.002343</td>\n",
       "      <td>...</td>\n",
       "      <td>-0.000153</td>\n",
       "      <td>-0.000067</td>\n",
       "      <td>0.003451</td>\n",
       "      <td>0.001646</td>\n",
       "      <td>0.003194</td>\n",
       "      <td>-0.000536</td>\n",
       "      <td>0.000253</td>\n",
       "      <td>0.001183</td>\n",
       "      <td>1.000000</td>\n",
       "      <td>-0.004731</td>\n",
       "    </tr>\n",
       "    <tr>\n",
       "      <th>var_199</th>\n",
       "      <td>0.003850</td>\n",
       "      <td>0.002287</td>\n",
       "      <td>0.003855</td>\n",
       "      <td>0.000506</td>\n",
       "      <td>-0.000786</td>\n",
       "      <td>0.002767</td>\n",
       "      <td>6.096300e-03</td>\n",
       "      <td>-0.001457</td>\n",
       "      <td>0.000854</td>\n",
       "      <td>0.001070</td>\n",
       "      <td>...</td>\n",
       "      <td>-0.000404</td>\n",
       "      <td>0.003595</td>\n",
       "      <td>-0.001239</td>\n",
       "      <td>-0.000552</td>\n",
       "      <td>-0.005615</td>\n",
       "      <td>0.002042</td>\n",
       "      <td>0.000607</td>\n",
       "      <td>0.004991</td>\n",
       "      <td>-0.004731</td>\n",
       "      <td>1.000000</td>\n",
       "    </tr>\n",
       "  </tbody>\n",
       "</table>\n",
       "<p>200 rows × 200 columns</p>\n",
       "</div>"
      ],
      "text/plain": [
       "            var_0     var_1     var_2     var_3     var_4     var_5     var_6  \\\n",
       "var_0    1.000000 -0.000544  0.006573  0.003801  0.001326  0.003046  0.006983   \n",
       "var_1   -0.000544  1.000000  0.003980  0.000010  0.000303 -0.000902  0.003258   \n",
       "var_2    0.006573  0.003980  1.000000  0.001001  0.000723  0.001569  0.000883   \n",
       "var_3    0.003801  0.000010  0.001001  1.000000 -0.000322  0.003253 -0.000774   \n",
       "var_4    0.001326  0.000303  0.000723 -0.000322  1.000000 -0.001368  0.000049   \n",
       "...           ...       ...       ...       ...       ...       ...       ...   \n",
       "var_195  0.002073 -0.000785 -0.001070  0.001206  0.003706 -0.001274  0.001244   \n",
       "var_196  0.004386 -0.000377  0.003952 -0.002800  0.000513  0.002880  0.005378   \n",
       "var_197 -0.000753 -0.004157  0.001078  0.001164 -0.000046 -0.000535 -0.003565   \n",
       "var_198 -0.005776 -0.004861 -0.000877 -0.001651 -0.001821 -0.000953 -0.003025   \n",
       "var_199  0.003850  0.002287  0.003855  0.000506 -0.000786  0.002767  0.006096   \n",
       "\n",
       "            var_7     var_8     var_9  ...   var_190   var_191   var_192  \\\n",
       "var_0    0.002429  0.004962 -0.002613  ...  0.002752  0.000206 -0.005373   \n",
       "var_1    0.001511  0.004098 -0.000832  ...  0.006627  0.003621 -0.002604   \n",
       "var_2   -0.000991  0.002648 -0.001932  ...  0.000197  0.001285 -0.003400   \n",
       "var_3    0.002500  0.003553 -0.000826  ...  0.000151  0.002445 -0.001530   \n",
       "var_4    0.004549  0.001194 -0.000918  ...  0.001514  0.004357  0.003347   \n",
       "...           ...       ...       ...  ...       ...       ...       ...   \n",
       "var_195  0.001854  0.001396 -0.000868  ...  0.004571  0.000870 -0.004745   \n",
       "var_196  0.001045 -0.003242  0.000052  ... -0.000847  0.002466 -0.001386   \n",
       "var_197  0.003466 -0.004583  0.003701  ... -0.004974  0.000906 -0.000527   \n",
       "var_198  0.000650  0.002950  0.002343  ... -0.000153 -0.000067  0.003451   \n",
       "var_199 -0.001457  0.000854  0.001070  ... -0.000404  0.003595 -0.001239   \n",
       "\n",
       "          var_193   var_194   var_195   var_196   var_197   var_198   var_199  \n",
       "var_0    0.001616 -0.001514  0.002073  0.004386 -0.000753 -0.005776  0.003850  \n",
       "var_1    0.001153 -0.002557 -0.000785 -0.000377 -0.004157 -0.004861  0.002287  \n",
       "var_2    0.000549  0.002104 -0.001070  0.003952  0.001078 -0.000877  0.003855  \n",
       "var_3   -0.001699 -0.001054  0.001206 -0.002800  0.001164 -0.001651  0.000506  \n",
       "var_4    0.000813 -0.000068  0.003706  0.000513 -0.000046 -0.001821 -0.000786  \n",
       "...           ...       ...       ...       ...       ...       ...       ...  \n",
       "var_195 -0.003143 -0.001201  1.000000  0.002517 -0.004170 -0.000536  0.002042  \n",
       "var_196 -0.005308 -0.005040  0.002517  1.000000 -0.000454  0.000253  0.000607  \n",
       "var_197  0.005068  0.000884 -0.004170 -0.000454  1.000000  0.001183  0.004991  \n",
       "var_198  0.001646  0.003194 -0.000536  0.000253  0.001183  1.000000 -0.004731  \n",
       "var_199 -0.000552 -0.005615  0.002042  0.000607  0.004991 -0.004731  1.000000  \n",
       "\n",
       "[200 rows x 200 columns]"
      ]
     },
     "execution_count": 19,
     "metadata": {},
     "output_type": "execute_result"
    }
   ],
   "source": [
    "df_corr.corr()"
   ]
  },
  {
   "cell_type": "markdown",
   "metadata": {},
   "source": [
    "as we can see that there is very less correlation among independent variables"
   ]
  },
  {
   "cell_type": "code",
   "execution_count": null,
   "metadata": {},
   "outputs": [],
   "source": []
  },
  {
   "cell_type": "markdown",
   "metadata": {},
   "source": [
    "###### Let's build a logistic regression model "
   ]
  },
  {
   "cell_type": "code",
   "execution_count": 26,
   "metadata": {},
   "outputs": [],
   "source": [
    "train=train.drop(columns=\"ID_code\", axis=1)"
   ]
  },
  {
   "cell_type": "code",
   "execution_count": 27,
   "metadata": {},
   "outputs": [
    {
     "name": "stdout",
     "output_type": "stream",
     "text": [
      "(160000, 200)\n",
      "(40000, 200)\n"
     ]
    }
   ],
   "source": [
    "X = train.drop(columns=\"target\")\n",
    "y = train[\"target\"]\n",
    "\n",
    "X_train, X_test, y_train, y_test = train_test_split( X, y, test_size = 0.2,stratify=y)\n",
    "print(X_train.shape)\n",
    "print(X_test.shape)"
   ]
  },
  {
   "cell_type": "code",
   "execution_count": 28,
   "metadata": {},
   "outputs": [
    {
     "name": "stderr",
     "output_type": "stream",
     "text": [
      "/home/zozo/.local/lib/python3.7/site-packages/sklearn/linear_model/logistic.py:432: FutureWarning: Default solver will be changed to 'lbfgs' in 0.22. Specify a solver to silence this warning.\n",
      "  FutureWarning)\n"
     ]
    }
   ],
   "source": [
    "#Logistic Regression\n",
    "logit=LogisticRegression(random_state=42)\n",
    "logit_model=logit.fit(X_train,y_train)"
   ]
  },
  {
   "cell_type": "code",
   "execution_count": 29,
   "metadata": {},
   "outputs": [],
   "source": [
    "logit_pred=logit_model.predict(X_test) "
   ]
  },
  {
   "cell_type": "code",
   "execution_count": 33,
   "metadata": {},
   "outputs": [],
   "source": [
    "CM = pd.crosstab(y_test,logit_pred)"
   ]
  },
  {
   "cell_type": "code",
   "execution_count": 34,
   "metadata": {},
   "outputs": [
    {
     "data": {
      "text/html": [
       "<div>\n",
       "<style scoped>\n",
       "    .dataframe tbody tr th:only-of-type {\n",
       "        vertical-align: middle;\n",
       "    }\n",
       "\n",
       "    .dataframe tbody tr th {\n",
       "        vertical-align: top;\n",
       "    }\n",
       "\n",
       "    .dataframe thead th {\n",
       "        text-align: right;\n",
       "    }\n",
       "</style>\n",
       "<table border=\"1\" class=\"dataframe\">\n",
       "  <thead>\n",
       "    <tr style=\"text-align: right;\">\n",
       "      <th>col_0</th>\n",
       "      <th>0</th>\n",
       "      <th>1</th>\n",
       "    </tr>\n",
       "    <tr>\n",
       "      <th>target</th>\n",
       "      <th></th>\n",
       "      <th></th>\n",
       "    </tr>\n",
       "  </thead>\n",
       "  <tbody>\n",
       "    <tr>\n",
       "      <th>0</th>\n",
       "      <td>35515</td>\n",
       "      <td>465</td>\n",
       "    </tr>\n",
       "    <tr>\n",
       "      <th>1</th>\n",
       "      <td>2940</td>\n",
       "      <td>1080</td>\n",
       "    </tr>\n",
       "  </tbody>\n",
       "</table>\n",
       "</div>"
      ],
      "text/plain": [
       "col_0       0     1\n",
       "target             \n",
       "0       35515   465\n",
       "1        2940  1080"
      ]
     },
     "execution_count": 34,
     "metadata": {},
     "output_type": "execute_result"
    }
   ],
   "source": [
    "CM"
   ]
  },
  {
   "cell_type": "code",
   "execution_count": 35,
   "metadata": {},
   "outputs": [
    {
     "name": "stdout",
     "output_type": "stream",
     "text": [
      "91.4875\n"
     ]
    }
   ],
   "source": [
    "TN = CM.iloc[0,0]\n",
    "FN = CM.iloc[1,0]\n",
    "TP = CM.iloc[1,1]\n",
    "FP = CM.iloc[0,1]\n",
    "Accuracy=((TN+TP)/(TN+FP+TP+FN))*100\n",
    "print(Accuracy)"
   ]
  },
  {
   "cell_type": "markdown",
   "metadata": {},
   "source": [
    "even though we are getting high accuracy but sometimes accuracy is not the best measure to evaluate a model specially if we have imbalanced data. So we will be using other measures like roc,auc and f1-scores"
   ]
  },
  {
   "cell_type": "code",
   "execution_count": 32,
   "metadata": {},
   "outputs": [],
   "source": [
    "FPR,TPR,thresholds=roc_curve(y_test,logit_pred)"
   ]
  },
  {
   "cell_type": "code",
   "execution_count": 33,
   "metadata": {},
   "outputs": [
    {
     "name": "stdout",
     "output_type": "stream",
     "text": [
      "0.626717855967522\n"
     ]
    }
   ],
   "source": [
    "print(auc(FPR,TPR))"
   ]
  },
  {
   "cell_type": "code",
   "execution_count": 38,
   "metadata": {},
   "outputs": [
    {
     "data": {
      "text/plain": [
       "[<matplotlib.lines.Line2D at 0x7f2db25f18d0>]"
      ]
     },
     "execution_count": 38,
     "metadata": {},
     "output_type": "execute_result"
    },
    {
     "data": {
      "image/png": "[encoded data removed]",
      "text/plain": [
       "<Figure size 432x288 with 1 Axes>"
      ]
     },
     "metadata": {
      "needs_background": "light"
     },
     "output_type": "display_data"
    }
   ],
   "source": [
    "plt.plot(FPR,TPR,'g')"
   ]
  },
  {
   "cell_type": "code",
   "execution_count": 39,
   "metadata": {},
   "outputs": [
    {
     "name": "stdout",
     "output_type": "stream",
     "text": [
      "              precision    recall  f1-score   support\n",
      "\n",
      "           0       0.92      0.99      0.95     35980\n",
      "           1       0.70      0.27      0.39      4020\n",
      "\n",
      "    accuracy                           0.91     40000\n",
      "   macro avg       0.81      0.63      0.67     40000\n",
      "weighted avg       0.90      0.91      0.90     40000\n",
      "\n"
     ]
    }
   ],
   "source": [
    "print(classification_report(y_test,logit_pred))"
   ]
  },
  {
   "cell_type": "markdown",
   "metadata": {},
   "source": [
    "as we can see that f1-score is very low for positive class.\n",
    "so by looking at the roc_curve and f1-score we can say that this model is not performing well on imbalanced data\n",
    "and we will try other models."
   ]
  },
  {
   "cell_type": "code",
   "execution_count": null,
   "metadata": {},
   "outputs": [],
   "source": []
  },
  {
   "cell_type": "markdown",
   "metadata": {},
   "source": [
    "##### SO let's use SMOTE to handle target class imbalance problem"
   ]
  },
  {
   "cell_type": "code",
   "execution_count": 34,
   "metadata": {},
   "outputs": [
    {
     "name": "stdout",
     "output_type": "stream",
     "text": [
      "(287844, 200)\n",
      "(71960, 200)\n"
     ]
    }
   ],
   "source": [
    "sm = SMOTE(random_state=42)\n",
    "X_train_smote,y_train_smote=sm.fit_sample(X_train,y_train)\n",
    "X_test_smote,y_test_smote=sm.fit_sample(X_test,y_test)\n",
    "print(X_train_smote.shape)\n",
    "print(X_test_smote.shape)"
   ]
  },
  {
   "cell_type": "markdown",
   "metadata": {},
   "source": [
    "###### Applying logistics regression on synthetic data"
   ]
  },
  {
   "cell_type": "code",
   "execution_count": 35,
   "metadata": {},
   "outputs": [
    {
     "name": "stderr",
     "output_type": "stream",
     "text": [
      "/home/zozo/.local/lib/python3.7/site-packages/sklearn/linear_model/logistic.py:432: FutureWarning: Default solver will be changed to 'lbfgs' in 0.22. Specify a solver to silence this warning.\n",
      "  FutureWarning)\n"
     ]
    }
   ],
   "source": [
    "smote=LogisticRegression(random_state=42)\n",
    "smote_model=smote.fit(X_train_smote,y_train_smote)"
   ]
  },
  {
   "cell_type": "code",
   "execution_count": 36,
   "metadata": {},
   "outputs": [],
   "source": [
    "smote_pred=smote_model.predict(X_test_smote)"
   ]
  },
  {
   "cell_type": "code",
   "execution_count": 37,
   "metadata": {},
   "outputs": [],
   "source": [
    "CM_smote=pd.crosstab(y_test_smote,smote_pred)"
   ]
  },
  {
   "cell_type": "code",
   "execution_count": 38,
   "metadata": {},
   "outputs": [
    {
     "data": {
      "text/html": [
       "<div>\n",
       "<style scoped>\n",
       "    .dataframe tbody tr th:only-of-type {\n",
       "        vertical-align: middle;\n",
       "    }\n",
       "\n",
       "    .dataframe tbody tr th {\n",
       "        vertical-align: top;\n",
       "    }\n",
       "\n",
       "    .dataframe thead th {\n",
       "        text-align: right;\n",
       "    }\n",
       "</style>\n",
       "<table border=\"1\" class=\"dataframe\">\n",
       "  <thead>\n",
       "    <tr style=\"text-align: right;\">\n",
       "      <th>col_0</th>\n",
       "      <th>0</th>\n",
       "      <th>1</th>\n",
       "    </tr>\n",
       "    <tr>\n",
       "      <th>row_0</th>\n",
       "      <th></th>\n",
       "      <th></th>\n",
       "    </tr>\n",
       "  </thead>\n",
       "  <tbody>\n",
       "    <tr>\n",
       "      <th>0</th>\n",
       "      <td>28374</td>\n",
       "      <td>7606</td>\n",
       "    </tr>\n",
       "    <tr>\n",
       "      <th>1</th>\n",
       "      <td>7366</td>\n",
       "      <td>28614</td>\n",
       "    </tr>\n",
       "  </tbody>\n",
       "</table>\n",
       "</div>"
      ],
      "text/plain": [
       "col_0      0      1\n",
       "row_0              \n",
       "0      28374   7606\n",
       "1       7366  28614"
      ]
     },
     "execution_count": 38,
     "metadata": {},
     "output_type": "execute_result"
    }
   ],
   "source": [
    "CM_smote"
   ]
  },
  {
   "cell_type": "code",
   "execution_count": 39,
   "metadata": {},
   "outputs": [
    {
     "name": "stdout",
     "output_type": "stream",
     "text": [
      "79.19399666481378\n"
     ]
    }
   ],
   "source": [
    "TN = CM_smote.iloc[0,0]\n",
    "FN = CM_smote.iloc[1,0]\n",
    "TP = CM_smote.iloc[1,1]\n",
    "FP = CM_smote.iloc[0,1]\n",
    "Accuracy=((TN+TP)/(TN+FP+TP+FN))*100\n",
    "print(Accuracy)"
   ]
  },
  {
   "cell_type": "code",
   "execution_count": 41,
   "metadata": {},
   "outputs": [],
   "source": [
    "FPR,TPR,thresholds=roc_curve(y_test_smote,smote_pred)"
   ]
  },
  {
   "cell_type": "code",
   "execution_count": 44,
   "metadata": {},
   "outputs": [
    {
     "name": "stdout",
     "output_type": "stream",
     "text": [
      "0.7919399666481377\n"
     ]
    }
   ],
   "source": [
    "print(auc(FPR,TPR))"
   ]
  },
  {
   "cell_type": "code",
   "execution_count": 55,
   "metadata": {},
   "outputs": [
    {
     "data": {
      "text/plain": [
       "[<matplotlib.lines.Line2D at 0x7f2db0716f98>]"
      ]
     },
     "execution_count": 55,
     "metadata": {},
     "output_type": "execute_result"
    },
    {
     "data": {
      "image/png": "[encoded data removed]",
      "text/plain": [
       "<Figure size 432x288 with 1 Axes>"
      ]
     },
     "metadata": {
      "needs_background": "light"
     },
     "output_type": "display_data"
    }
   ],
   "source": [
    "plt.plot(FPR,TPR,'g')"
   ]
  },
  {
   "cell_type": "code",
   "execution_count": 56,
   "metadata": {},
   "outputs": [
    {
     "name": "stdout",
     "output_type": "stream",
     "text": [
      "              precision    recall  f1-score   support\n",
      "\n",
      "           0       0.80      0.79      0.79     35980\n",
      "           1       0.79      0.80      0.80     35980\n",
      "\n",
      "    accuracy                           0.80     71960\n",
      "   macro avg       0.80      0.80      0.80     71960\n",
      "weighted avg       0.80      0.80      0.80     71960\n",
      "\n"
     ]
    }
   ],
   "source": [
    "print(classification_report(y_test_smote,smote_pred))"
   ]
  },
  {
   "cell_type": "markdown",
   "metadata": {},
   "source": [
    "we can see from roc_curve and f1-score that logistic regression is performing well on synthetic data "
   ]
  },
  {
   "cell_type": "code",
   "execution_count": null,
   "metadata": {},
   "outputs": [],
   "source": []
  },
  {
   "cell_type": "markdown",
   "metadata": {},
   "source": [
    "##### Decision Tree"
   ]
  },
  {
   "cell_type": "code",
   "execution_count": 29,
   "metadata": {},
   "outputs": [],
   "source": []
  },
  {
   "cell_type": "code",
   "execution_count": 45,
   "metadata": {},
   "outputs": [],
   "source": [
    "C50_model = tree.DecisionTreeClassifier(criterion='entropy').fit(X_train, y_train)\n",
    "#predict new test cases\n",
    "C50_Predictions = C50_model.predict(X_test)"
   ]
  },
  {
   "cell_type": "code",
   "execution_count": 46,
   "metadata": {},
   "outputs": [],
   "source": [
    "CM_dec=pd.crosstab(y_test,C50_Predictions)"
   ]
  },
  {
   "cell_type": "code",
   "execution_count": 47,
   "metadata": {},
   "outputs": [
    {
     "data": {
      "text/html": [
       "<div>\n",
       "<style scoped>\n",
       "    .dataframe tbody tr th:only-of-type {\n",
       "        vertical-align: middle;\n",
       "    }\n",
       "\n",
       "    .dataframe tbody tr th {\n",
       "        vertical-align: top;\n",
       "    }\n",
       "\n",
       "    .dataframe thead th {\n",
       "        text-align: right;\n",
       "    }\n",
       "</style>\n",
       "<table border=\"1\" class=\"dataframe\">\n",
       "  <thead>\n",
       "    <tr style=\"text-align: right;\">\n",
       "      <th>col_0</th>\n",
       "      <th>0</th>\n",
       "      <th>1</th>\n",
       "    </tr>\n",
       "    <tr>\n",
       "      <th>target</th>\n",
       "      <th></th>\n",
       "      <th></th>\n",
       "    </tr>\n",
       "  </thead>\n",
       "  <tbody>\n",
       "    <tr>\n",
       "      <th>0</th>\n",
       "      <td>32670</td>\n",
       "      <td>3310</td>\n",
       "    </tr>\n",
       "    <tr>\n",
       "      <th>1</th>\n",
       "      <td>3234</td>\n",
       "      <td>786</td>\n",
       "    </tr>\n",
       "  </tbody>\n",
       "</table>\n",
       "</div>"
      ],
      "text/plain": [
       "col_0       0     1\n",
       "target             \n",
       "0       32670  3310\n",
       "1        3234   786"
      ]
     },
     "execution_count": 47,
     "metadata": {},
     "output_type": "execute_result"
    }
   ],
   "source": [
    "CM_dec"
   ]
  },
  {
   "cell_type": "code",
   "execution_count": 48,
   "metadata": {},
   "outputs": [
    {
     "name": "stdout",
     "output_type": "stream",
     "text": [
      "83.64\n"
     ]
    }
   ],
   "source": [
    "TN = CM_dec.iloc[0,0]\n",
    "FN = CM_dec.iloc[1,0]\n",
    "TP = CM_dec.iloc[1,1]\n",
    "FP = CM_dec.iloc[0,1]\n",
    "Accuracy=((TN+TP)/(TN+FP+TP+FN))*100\n",
    "print(Accuracy)"
   ]
  },
  {
   "cell_type": "code",
   "execution_count": 50,
   "metadata": {},
   "outputs": [],
   "source": [
    "FPR,TPR,thresholds=roc_curve(y_test,C50_Predictions)"
   ]
  },
  {
   "cell_type": "code",
   "execution_count": 51,
   "metadata": {},
   "outputs": [
    {
     "name": "stdout",
     "output_type": "stream",
     "text": [
      "0.551763417487327\n"
     ]
    }
   ],
   "source": [
    "print(auc(FPR,TPR))"
   ]
  },
  {
   "cell_type": "code",
   "execution_count": 64,
   "metadata": {},
   "outputs": [
    {
     "data": {
      "text/plain": [
       "[<matplotlib.lines.Line2D at 0x7f2dae38ed68>]"
      ]
     },
     "execution_count": 64,
     "metadata": {},
     "output_type": "execute_result"
    },
    {
     "data": {
      "image/png": "[encoded data removed]",
      "text/plain": [
       "<Figure size 432x288 with 1 Axes>"
      ]
     },
     "metadata": {
      "needs_background": "light"
     },
     "output_type": "display_data"
    }
   ],
   "source": [
    "plt.plot(FPR,TPR,'g')"
   ]
  },
  {
   "cell_type": "code",
   "execution_count": 65,
   "metadata": {},
   "outputs": [
    {
     "name": "stdout",
     "output_type": "stream",
     "text": [
      "              precision    recall  f1-score   support\n",
      "\n",
      "           0       0.91      0.91      0.91     35980\n",
      "           1       0.19      0.20      0.19      4020\n",
      "\n",
      "    accuracy                           0.84     40000\n",
      "   macro avg       0.55      0.55      0.55     40000\n",
      "weighted avg       0.84      0.84      0.84     40000\n",
      "\n"
     ]
    }
   ],
   "source": [
    "print(classification_report(y_test,C50_Predictions))"
   ]
  },
  {
   "cell_type": "markdown",
   "metadata": {},
   "source": [
    "So, by looking at the roc_curve and f1-score we can say that decision tree also not performing well on imbalanced target\n",
    "class data"
   ]
  },
  {
   "cell_type": "code",
   "execution_count": null,
   "metadata": {},
   "outputs": [],
   "source": []
  },
  {
   "cell_type": "markdown",
   "metadata": {},
   "source": [
    "###### Let's apply decision tree on synthetic data"
   ]
  },
  {
   "cell_type": "code",
   "execution_count": 52,
   "metadata": {},
   "outputs": [],
   "source": [
    "C50_model = tree.DecisionTreeClassifier(criterion='entropy').fit(X_train_smote, y_train_smote)\n",
    "#predict new test cases\n",
    "C50_Predictions = C50_model.predict(X_test_smote)"
   ]
  },
  {
   "cell_type": "code",
   "execution_count": 53,
   "metadata": {},
   "outputs": [],
   "source": [
    "CM_dec=pd.crosstab(y_test_smote,C50_Predictions)"
   ]
  },
  {
   "cell_type": "code",
   "execution_count": 54,
   "metadata": {},
   "outputs": [
    {
     "data": {
      "text/html": [
       "<div>\n",
       "<style scoped>\n",
       "    .dataframe tbody tr th:only-of-type {\n",
       "        vertical-align: middle;\n",
       "    }\n",
       "\n",
       "    .dataframe tbody tr th {\n",
       "        vertical-align: top;\n",
       "    }\n",
       "\n",
       "    .dataframe thead th {\n",
       "        text-align: right;\n",
       "    }\n",
       "</style>\n",
       "<table border=\"1\" class=\"dataframe\">\n",
       "  <thead>\n",
       "    <tr style=\"text-align: right;\">\n",
       "      <th>col_0</th>\n",
       "      <th>0</th>\n",
       "      <th>1</th>\n",
       "    </tr>\n",
       "    <tr>\n",
       "      <th>row_0</th>\n",
       "      <th></th>\n",
       "      <th></th>\n",
       "    </tr>\n",
       "  </thead>\n",
       "  <tbody>\n",
       "    <tr>\n",
       "      <th>0</th>\n",
       "      <td>27044</td>\n",
       "      <td>8936</td>\n",
       "    </tr>\n",
       "    <tr>\n",
       "      <th>1</th>\n",
       "      <td>16550</td>\n",
       "      <td>19430</td>\n",
       "    </tr>\n",
       "  </tbody>\n",
       "</table>\n",
       "</div>"
      ],
      "text/plain": [
       "col_0      0      1\n",
       "row_0              \n",
       "0      27044   8936\n",
       "1      16550  19430"
      ]
     },
     "execution_count": 54,
     "metadata": {},
     "output_type": "execute_result"
    }
   ],
   "source": [
    "CM_dec"
   ]
  },
  {
   "cell_type": "code",
   "execution_count": 55,
   "metadata": {},
   "outputs": [
    {
     "name": "stdout",
     "output_type": "stream",
     "text": [
      "64.58310172317955\n"
     ]
    }
   ],
   "source": [
    "TN = CM_dec.iloc[0,0]\n",
    "FN = CM_dec.iloc[1,0]\n",
    "TP = CM_dec.iloc[1,1]\n",
    "FP = CM_dec.iloc[0,1]\n",
    "Accuracy=((TN+TP)/(TN+FP+TP+FN))*100\n",
    "print(Accuracy)"
   ]
  },
  {
   "cell_type": "code",
   "execution_count": 57,
   "metadata": {},
   "outputs": [],
   "source": [
    "FPR,TPR,thresholds=roc_curve(y_test_smote,C50_Predictions)"
   ]
  },
  {
   "cell_type": "code",
   "execution_count": 58,
   "metadata": {},
   "outputs": [
    {
     "name": "stdout",
     "output_type": "stream",
     "text": [
      "0.6458310172317954\n"
     ]
    }
   ],
   "source": [
    "print(auc(FPR,TPR))"
   ]
  },
  {
   "cell_type": "code",
   "execution_count": 71,
   "metadata": {},
   "outputs": [
    {
     "name": "stdout",
     "output_type": "stream",
     "text": [
      "              precision    recall  f1-score   support\n",
      "\n",
      "           0       0.62      0.75      0.68     35980\n",
      "           1       0.68      0.53      0.60     35980\n",
      "\n",
      "    accuracy                           0.64     71960\n",
      "   macro avg       0.65      0.64      0.64     71960\n",
      "weighted avg       0.65      0.64      0.64     71960\n",
      "\n"
     ]
    }
   ],
   "source": [
    "print(classification_report(y_test_smote,C50_Predictions))"
   ]
  },
  {
   "cell_type": "markdown",
   "metadata": {},
   "source": [
    "as we can see accuracy is very low when we applied decision tree model on synthetic data that means decision tree is not performing good on synthetic data as well"
   ]
  },
  {
   "cell_type": "code",
   "execution_count": null,
   "metadata": {},
   "outputs": [],
   "source": []
  },
  {
   "cell_type": "code",
   "execution_count": 59,
   "metadata": {},
   "outputs": [],
   "source": [
    "#training data\n",
    "lgb_train=lgb.Dataset(X_train_smote,label=y_train_smote)\n",
    "#test data\n",
    "lgb_test=lgb.Dataset(X_test_smote,label=y_test_smote)"
   ]
  },
  {
   "cell_type": "code",
   "execution_count": 60,
   "metadata": {},
   "outputs": [],
   "source": [
    "param = {'objective' : \"binary\", \n",
    "               'boost':\"gbdt\",\n",
    "               'metric':\"auc\",\n",
    "               'boost_from_average':\"false\",\n",
    "               'num_threads':8,\n",
    "               'learning_rate' : 0.01,\n",
    "               'num_leaves' : 13,\n",
    "               'max_depth':-1,\n",
    "               'tree_learner' : \"serial\",\n",
    "               'feature_fraction' : 0.05,\n",
    "               'bagging_freq' : 5,\n",
    "               'bagging_fraction' : 0.4,\n",
    "               'min_data_in_leaf' : 80,\n",
    "               'min_sum_hessian_in_leaf' : 10.0,\n",
    "               'verbosity' : 1}"
   ]
  },
  {
   "cell_type": "code",
   "execution_count": 61,
   "metadata": {
    "scrolled": true
   },
   "outputs": [
    {
     "name": "stdout",
     "output_type": "stream",
     "text": [
      "Training until validation scores don't improve for 3000 rounds.\n",
      "[400]\ttraining's auc: 0.926714\tvalid_1's auc: 0.918969\n",
      "[800]\ttraining's auc: 0.933359\tvalid_1's auc: 0.924399\n",
      "[1200]\ttraining's auc: 0.939022\tvalid_1's auc: 0.929566\n",
      "[1600]\ttraining's auc: 0.943914\tvalid_1's auc: 0.933757\n",
      "[2000]\ttraining's auc: 0.947985\tvalid_1's auc: 0.93728\n",
      "[2400]\ttraining's auc: 0.951378\tvalid_1's auc: 0.940214\n",
      "[2800]\ttraining's auc: 0.954247\tvalid_1's auc: 0.94256\n",
      "[3200]\ttraining's auc: 0.956631\tvalid_1's auc: 0.944562\n",
      "[3600]\ttraining's auc: 0.958704\tvalid_1's auc: 0.946219\n",
      "[4000]\ttraining's auc: 0.960378\tvalid_1's auc: 0.947565\n",
      "[4400]\ttraining's auc: 0.961928\tvalid_1's auc: 0.948653\n",
      "[4800]\ttraining's auc: 0.96327\tvalid_1's auc: 0.949609\n",
      "[5200]\ttraining's auc: 0.964451\tvalid_1's auc: 0.950364\n",
      "[5600]\ttraining's auc: 0.965524\tvalid_1's auc: 0.951033\n",
      "[6000]\ttraining's auc: 0.96653\tvalid_1's auc: 0.9516\n",
      "[6400]\ttraining's auc: 0.967439\tvalid_1's auc: 0.952087\n",
      "[6800]\ttraining's auc: 0.968306\tvalid_1's auc: 0.952522\n",
      "[7200]\ttraining's auc: 0.969132\tvalid_1's auc: 0.952833\n",
      "[7600]\ttraining's auc: 0.969936\tvalid_1's auc: 0.95314\n",
      "[8000]\ttraining's auc: 0.97068\tvalid_1's auc: 0.953435\n",
      "[8400]\ttraining's auc: 0.971415\tvalid_1's auc: 0.953658\n",
      "[8800]\ttraining's auc: 0.972118\tvalid_1's auc: 0.953873\n",
      "[9200]\ttraining's auc: 0.972788\tvalid_1's auc: 0.954033\n",
      "[9600]\ttraining's auc: 0.97345\tvalid_1's auc: 0.954177\n",
      "[10000]\ttraining's auc: 0.974079\tvalid_1's auc: 0.954322\n",
      "[10400]\ttraining's auc: 0.974698\tvalid_1's auc: 0.954458\n",
      "[10800]\ttraining's auc: 0.97531\tvalid_1's auc: 0.954573\n",
      "[11200]\ttraining's auc: 0.975884\tvalid_1's auc: 0.954662\n",
      "[11600]\ttraining's auc: 0.976452\tvalid_1's auc: 0.954749\n",
      "[12000]\ttraining's auc: 0.977009\tvalid_1's auc: 0.954845\n",
      "[12400]\ttraining's auc: 0.977547\tvalid_1's auc: 0.954911\n",
      "[12800]\ttraining's auc: 0.978078\tvalid_1's auc: 0.954965\n",
      "[13200]\ttraining's auc: 0.978597\tvalid_1's auc: 0.955027\n",
      "[13600]\ttraining's auc: 0.979102\tvalid_1's auc: 0.955092\n",
      "[14000]\ttraining's auc: 0.979609\tvalid_1's auc: 0.955151\n",
      "[14400]\ttraining's auc: 0.980096\tvalid_1's auc: 0.955221\n",
      "[14800]\ttraining's auc: 0.980565\tvalid_1's auc: 0.955278\n",
      "[15200]\ttraining's auc: 0.981037\tvalid_1's auc: 0.95533\n",
      "[15600]\ttraining's auc: 0.981486\tvalid_1's auc: 0.955367\n",
      "[16000]\ttraining's auc: 0.981941\tvalid_1's auc: 0.955418\n",
      "[16400]\ttraining's auc: 0.982388\tvalid_1's auc: 0.955462\n",
      "[16800]\ttraining's auc: 0.982811\tvalid_1's auc: 0.955492\n",
      "[17200]\ttraining's auc: 0.983232\tvalid_1's auc: 0.955517\n",
      "[17600]\ttraining's auc: 0.983637\tvalid_1's auc: 0.95556\n",
      "[18000]\ttraining's auc: 0.98403\tvalid_1's auc: 0.955574\n",
      "[18400]\ttraining's auc: 0.984427\tvalid_1's auc: 0.955601\n",
      "[18800]\ttraining's auc: 0.98481\tvalid_1's auc: 0.955628\n",
      "[19200]\ttraining's auc: 0.985181\tvalid_1's auc: 0.95565\n",
      "[19600]\ttraining's auc: 0.985556\tvalid_1's auc: 0.955694\n",
      "[20000]\ttraining's auc: 0.985914\tvalid_1's auc: 0.9557\n",
      "Did not meet early stopping. Best iteration is:\n",
      "[20000]\ttraining's auc: 0.985914\tvalid_1's auc: 0.9557\n"
     ]
    },
    {
     "data": {
      "text/plain": [
       "<lightgbm.basic.Booster at 0x7f1bff315128>"
      ]
     },
     "execution_count": 61,
     "metadata": {},
     "output_type": "execute_result"
    }
   ],
   "source": [
    "num_rounds=20000\n",
    "lgbm= lgb.train(param,lgb_train,num_rounds,valid_sets=[lgb_train,lgb_test],verbose_eval=400,early_stopping_rounds = 3000)\n",
    "lgbm"
   ]
  },
  {
   "cell_type": "code",
   "execution_count": 62,
   "metadata": {},
   "outputs": [],
   "source": [
    "lgbm_predict_prob=lgbm.predict(X_test_smote,random_state=42,num_iteration=lgbm.best_iteration)\n",
    "lgbm_predict=np.where(lgbm_predict_prob>=0.5,1,0)"
   ]
  },
  {
   "cell_type": "code",
   "execution_count": 63,
   "metadata": {},
   "outputs": [],
   "source": [
    "CM_lgbm=pd.crosstab(y_test_smote,lgbm_predict)"
   ]
  },
  {
   "cell_type": "code",
   "execution_count": 64,
   "metadata": {},
   "outputs": [
    {
     "data": {
      "text/html": [
       "<div>\n",
       "<style scoped>\n",
       "    .dataframe tbody tr th:only-of-type {\n",
       "        vertical-align: middle;\n",
       "    }\n",
       "\n",
       "    .dataframe tbody tr th {\n",
       "        vertical-align: top;\n",
       "    }\n",
       "\n",
       "    .dataframe thead th {\n",
       "        text-align: right;\n",
       "    }\n",
       "</style>\n",
       "<table border=\"1\" class=\"dataframe\">\n",
       "  <thead>\n",
       "    <tr style=\"text-align: right;\">\n",
       "      <th>col_0</th>\n",
       "      <th>0</th>\n",
       "      <th>1</th>\n",
       "    </tr>\n",
       "    <tr>\n",
       "      <th>row_0</th>\n",
       "      <th></th>\n",
       "      <th></th>\n",
       "    </tr>\n",
       "  </thead>\n",
       "  <tbody>\n",
       "    <tr>\n",
       "      <th>0</th>\n",
       "      <td>33339</td>\n",
       "      <td>2641</td>\n",
       "    </tr>\n",
       "    <tr>\n",
       "      <th>1</th>\n",
       "      <td>5302</td>\n",
       "      <td>30678</td>\n",
       "    </tr>\n",
       "  </tbody>\n",
       "</table>\n",
       "</div>"
      ],
      "text/plain": [
       "col_0      0      1\n",
       "row_0              \n",
       "0      33339   2641\n",
       "1       5302  30678"
      ]
     },
     "execution_count": 64,
     "metadata": {},
     "output_type": "execute_result"
    }
   ],
   "source": [
    "CM_lgbm"
   ]
  },
  {
   "cell_type": "code",
   "execution_count": 65,
   "metadata": {},
   "outputs": [
    {
     "name": "stdout",
     "output_type": "stream",
     "text": [
      "88.96192329071707\n"
     ]
    }
   ],
   "source": [
    "TN = CM_lgbm.iloc[0,0]\n",
    "FN = CM_lgbm.iloc[1,0]\n",
    "TP = CM_lgbm.iloc[1,1]\n",
    "FP = CM_lgbm.iloc[0,1]\n",
    "Accuracy=((TN+TP)/(TN+FP+TP+FN))*100\n",
    "print(Accuracy)"
   ]
  },
  {
   "cell_type": "code",
   "execution_count": 67,
   "metadata": {},
   "outputs": [],
   "source": [
    "FPR,TPR,thresholds=roc_curve(y_test_smote,lgbm_predict)"
   ]
  },
  {
   "cell_type": "code",
   "execution_count": 68,
   "metadata": {},
   "outputs": [
    {
     "name": "stdout",
     "output_type": "stream",
     "text": [
      "0.8896192329071707\n"
     ]
    }
   ],
   "source": [
    "print(auc(FPR,TPR))"
   ]
  },
  {
   "cell_type": "code",
   "execution_count": 69,
   "metadata": {},
   "outputs": [
    {
     "data": {
      "text/plain": [
       "[<matplotlib.lines.Line2D at 0x7f1bff369358>]"
      ]
     },
     "execution_count": 69,
     "metadata": {},
     "output_type": "execute_result"
    },
    {
     "data": {
      "image/png": "[encoded data removed]",
      "text/plain": [
       "<Figure size 432x288 with 1 Axes>"
      ]
     },
     "metadata": {
      "needs_background": "light"
     },
     "output_type": "display_data"
    }
   ],
   "source": [
    "plt.plot(FPR,TPR,'g')"
   ]
  },
  {
   "cell_type": "code",
   "execution_count": 70,
   "metadata": {},
   "outputs": [
    {
     "name": "stdout",
     "output_type": "stream",
     "text": [
      "              precision    recall  f1-score   support\n",
      "\n",
      "           0       0.86      0.93      0.89     35980\n",
      "           1       0.92      0.85      0.89     35980\n",
      "\n",
      "    accuracy                           0.89     71960\n",
      "   macro avg       0.89      0.89      0.89     71960\n",
      "weighted avg       0.89      0.89      0.89     71960\n",
      "\n"
     ]
    }
   ],
   "source": [
    "print(classification_report(y_test_smote,lgbm_predict))"
   ]
  },
  {
   "cell_type": "markdown",
   "metadata": {},
   "source": [
    "from the roc_curve and f1-score we can conclude that Lightgbm model is performing well "
   ]
  },
  {
   "cell_type": "code",
   "execution_count": null,
   "metadata": {},
   "outputs": [],
   "source": []
  },
  {
   "cell_type": "markdown",
   "metadata": {},
   "source": [
    "##### As we got best accuracy,precision,recall and f1-score from lightgbm model we used it predict the test data "
   ]
  },
  {
   "cell_type": "code",
   "execution_count": 11,
   "metadata": {},
   "outputs": [],
   "source": [
    "test=pd.read_csv(\"test.csv\")"
   ]
  },
  {
   "cell_type": "code",
   "execution_count": 287,
   "metadata": {},
   "outputs": [
    {
     "data": {
      "text/plain": [
       "(200000, 201)"
      ]
     },
     "execution_count": 287,
     "metadata": {},
     "output_type": "execute_result"
    }
   ],
   "source": [
    "test.shape"
   ]
  },
  {
   "cell_type": "code",
   "execution_count": 288,
   "metadata": {
    "scrolled": true
   },
   "outputs": [
    {
     "data": {
      "text/html": [
       "<div>\n",
       "<style scoped>\n",
       "    .dataframe tbody tr th:only-of-type {\n",
       "        vertical-align: middle;\n",
       "    }\n",
       "\n",
       "    .dataframe tbody tr th {\n",
       "        vertical-align: top;\n",
       "    }\n",
       "\n",
       "    .dataframe thead th {\n",
       "        text-align: right;\n",
       "    }\n",
       "</style>\n",
       "<table border=\"1\" class=\"dataframe\">\n",
       "  <thead>\n",
       "    <tr style=\"text-align: right;\">\n",
       "      <th></th>\n",
       "      <th>ID_code</th>\n",
       "      <th>var_0</th>\n",
       "      <th>var_1</th>\n",
       "      <th>var_2</th>\n",
       "      <th>var_3</th>\n",
       "      <th>var_4</th>\n",
       "      <th>var_5</th>\n",
       "      <th>var_6</th>\n",
       "      <th>var_7</th>\n",
       "      <th>var_8</th>\n",
       "      <th>...</th>\n",
       "      <th>var_190</th>\n",
       "      <th>var_191</th>\n",
       "      <th>var_192</th>\n",
       "      <th>var_193</th>\n",
       "      <th>var_194</th>\n",
       "      <th>var_195</th>\n",
       "      <th>var_196</th>\n",
       "      <th>var_197</th>\n",
       "      <th>var_198</th>\n",
       "      <th>var_199</th>\n",
       "    </tr>\n",
       "  </thead>\n",
       "  <tbody>\n",
       "    <tr>\n",
       "      <th>0</th>\n",
       "      <td>test_0</td>\n",
       "      <td>11.0656</td>\n",
       "      <td>7.7798</td>\n",
       "      <td>12.9536</td>\n",
       "      <td>9.4292</td>\n",
       "      <td>11.4327</td>\n",
       "      <td>-2.3805</td>\n",
       "      <td>5.8493</td>\n",
       "      <td>18.2675</td>\n",
       "      <td>2.1337</td>\n",
       "      <td>...</td>\n",
       "      <td>-2.1556</td>\n",
       "      <td>11.8495</td>\n",
       "      <td>-1.4300</td>\n",
       "      <td>2.4508</td>\n",
       "      <td>13.7112</td>\n",
       "      <td>2.4669</td>\n",
       "      <td>4.3654</td>\n",
       "      <td>10.7200</td>\n",
       "      <td>15.4722</td>\n",
       "      <td>-8.7197</td>\n",
       "    </tr>\n",
       "    <tr>\n",
       "      <th>1</th>\n",
       "      <td>test_1</td>\n",
       "      <td>8.5304</td>\n",
       "      <td>1.2543</td>\n",
       "      <td>11.3047</td>\n",
       "      <td>5.1858</td>\n",
       "      <td>9.1974</td>\n",
       "      <td>-4.0117</td>\n",
       "      <td>6.0196</td>\n",
       "      <td>18.6316</td>\n",
       "      <td>-4.4131</td>\n",
       "      <td>...</td>\n",
       "      <td>10.6165</td>\n",
       "      <td>8.8349</td>\n",
       "      <td>0.9403</td>\n",
       "      <td>10.1282</td>\n",
       "      <td>15.5765</td>\n",
       "      <td>0.4773</td>\n",
       "      <td>-1.4852</td>\n",
       "      <td>9.8714</td>\n",
       "      <td>19.1293</td>\n",
       "      <td>-20.9760</td>\n",
       "    </tr>\n",
       "    <tr>\n",
       "      <th>2</th>\n",
       "      <td>test_2</td>\n",
       "      <td>5.4827</td>\n",
       "      <td>-10.3581</td>\n",
       "      <td>10.1407</td>\n",
       "      <td>7.0479</td>\n",
       "      <td>10.2628</td>\n",
       "      <td>9.8052</td>\n",
       "      <td>4.8950</td>\n",
       "      <td>20.2537</td>\n",
       "      <td>1.5233</td>\n",
       "      <td>...</td>\n",
       "      <td>-0.7484</td>\n",
       "      <td>10.9935</td>\n",
       "      <td>1.9803</td>\n",
       "      <td>2.1800</td>\n",
       "      <td>12.9813</td>\n",
       "      <td>2.1281</td>\n",
       "      <td>-7.1086</td>\n",
       "      <td>7.0618</td>\n",
       "      <td>19.8956</td>\n",
       "      <td>-23.1794</td>\n",
       "    </tr>\n",
       "    <tr>\n",
       "      <th>3</th>\n",
       "      <td>test_3</td>\n",
       "      <td>8.5374</td>\n",
       "      <td>-1.3222</td>\n",
       "      <td>12.0220</td>\n",
       "      <td>6.5749</td>\n",
       "      <td>8.8458</td>\n",
       "      <td>3.1744</td>\n",
       "      <td>4.9397</td>\n",
       "      <td>20.5660</td>\n",
       "      <td>3.3755</td>\n",
       "      <td>...</td>\n",
       "      <td>9.5702</td>\n",
       "      <td>9.0766</td>\n",
       "      <td>1.6580</td>\n",
       "      <td>3.5813</td>\n",
       "      <td>15.1874</td>\n",
       "      <td>3.1656</td>\n",
       "      <td>3.9567</td>\n",
       "      <td>9.2295</td>\n",
       "      <td>13.0168</td>\n",
       "      <td>-4.2108</td>\n",
       "    </tr>\n",
       "    <tr>\n",
       "      <th>4</th>\n",
       "      <td>test_4</td>\n",
       "      <td>11.7058</td>\n",
       "      <td>-0.1327</td>\n",
       "      <td>14.1295</td>\n",
       "      <td>7.7506</td>\n",
       "      <td>9.1035</td>\n",
       "      <td>-8.5848</td>\n",
       "      <td>6.8595</td>\n",
       "      <td>10.6048</td>\n",
       "      <td>2.9890</td>\n",
       "      <td>...</td>\n",
       "      <td>4.2259</td>\n",
       "      <td>9.1723</td>\n",
       "      <td>1.2835</td>\n",
       "      <td>3.3778</td>\n",
       "      <td>19.5542</td>\n",
       "      <td>-0.2860</td>\n",
       "      <td>-5.1612</td>\n",
       "      <td>7.2882</td>\n",
       "      <td>13.9260</td>\n",
       "      <td>-9.1846</td>\n",
       "    </tr>\n",
       "  </tbody>\n",
       "</table>\n",
       "<p>5 rows × 201 columns</p>\n",
       "</div>"
      ],
      "text/plain": [
       "  ID_code    var_0    var_1    var_2   var_3    var_4   var_5   var_6  \\\n",
       "0  test_0  11.0656   7.7798  12.9536  9.4292  11.4327 -2.3805  5.8493   \n",
       "1  test_1   8.5304   1.2543  11.3047  5.1858   9.1974 -4.0117  6.0196   \n",
       "2  test_2   5.4827 -10.3581  10.1407  7.0479  10.2628  9.8052  4.8950   \n",
       "3  test_3   8.5374  -1.3222  12.0220  6.5749   8.8458  3.1744  4.9397   \n",
       "4  test_4  11.7058  -0.1327  14.1295  7.7506   9.1035 -8.5848  6.8595   \n",
       "\n",
       "     var_7   var_8  ...  var_190  var_191  var_192  var_193  var_194  var_195  \\\n",
       "0  18.2675  2.1337  ...  -2.1556  11.8495  -1.4300   2.4508  13.7112   2.4669   \n",
       "1  18.6316 -4.4131  ...  10.6165   8.8349   0.9403  10.1282  15.5765   0.4773   \n",
       "2  20.2537  1.5233  ...  -0.7484  10.9935   1.9803   2.1800  12.9813   2.1281   \n",
       "3  20.5660  3.3755  ...   9.5702   9.0766   1.6580   3.5813  15.1874   3.1656   \n",
       "4  10.6048  2.9890  ...   4.2259   9.1723   1.2835   3.3778  19.5542  -0.2860   \n",
       "\n",
       "   var_196  var_197  var_198  var_199  \n",
       "0   4.3654  10.7200  15.4722  -8.7197  \n",
       "1  -1.4852   9.8714  19.1293 -20.9760  \n",
       "2  -7.1086   7.0618  19.8956 -23.1794  \n",
       "3   3.9567   9.2295  13.0168  -4.2108  \n",
       "4  -5.1612   7.2882  13.9260  -9.1846  \n",
       "\n",
       "[5 rows x 201 columns]"
      ]
     },
     "execution_count": 288,
     "metadata": {},
     "output_type": "execute_result"
    }
   ],
   "source": [
    "test.head()"
   ]
  },
  {
   "cell_type": "code",
   "execution_count": 12,
   "metadata": {},
   "outputs": [],
   "source": [
    "test=test.drop(\"ID_code\",axis=1)"
   ]
  },
  {
   "cell_type": "code",
   "execution_count": 13,
   "metadata": {},
   "outputs": [
    {
     "data": {
      "text/plain": [
       "(200000, 200)"
      ]
     },
     "execution_count": 13,
     "metadata": {},
     "output_type": "execute_result"
    }
   ],
   "source": [
    "test.shape"
   ]
  },
  {
   "cell_type": "code",
   "execution_count": 14,
   "metadata": {},
   "outputs": [],
   "source": [
    "lgbm_predict_prob=lgbm.predict(test,random_state=42,num_iteration=lgbm.best_iteration)\n",
    "lgbm_predict=np.where(lgbm_predict_prob>=0.5,1,0)"
   ]
  },
  {
   "cell_type": "code",
   "execution_count": 15,
   "metadata": {},
   "outputs": [],
   "source": [
    "test['target']=lgbm_predict"
   ]
  },
  {
   "cell_type": "code",
   "execution_count": 16,
   "metadata": {},
   "outputs": [
    {
     "data": {
      "text/plain": [
       "(200000, 201)"
      ]
     },
     "execution_count": 16,
     "metadata": {},
     "output_type": "execute_result"
    }
   ],
   "source": [
    "test.shape"
   ]
  },
  {
   "cell_type": "code",
   "execution_count": 299,
   "metadata": {},
   "outputs": [],
   "source": [
    "test.to_csv(\"predicted_test.csv\",index=False)"
   ]
  },
  {
   "cell_type": "code",
   "execution_count": null,
   "metadata": {},
   "outputs": [],
   "source": []
  }
 ],
 "metadata": {
  "kernelspec": {
   "display_name": "Python 3",
   "language": "python",
   "name": "python3"
  },
  "language_info": {
   "codemirror_mode": {
    "name": "ipython",
    "version": 3
   },
   "file_extension": ".py",
   "mimetype": "text/x-python",
   "name": "python",
   "nbconvert_exporter": "python",
   "pygments_lexer": "ipython3",
   "version": "3.7.3"
  }
 },
 "nbformat": 4,
 "nbformat_minor": 2
}
